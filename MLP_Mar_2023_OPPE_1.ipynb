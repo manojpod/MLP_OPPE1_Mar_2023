{
 "cells": [
  {
   "cell_type": "markdown",
   "metadata": {
    "id": "bGpqb44NSO0S"
   },
   "source": [
    "# Preamble: Load the dataset and examine it."
   ]
  },
  {
   "cell_type": "markdown",
   "metadata": {
    "id": "4G1bAUBwSFyz"
   },
   "source": [
    "### Notes: \n",
    "* This exam consists of a Regression problem.  \n",
    "* The target feature is 'cltv'. \n",
    "* Random state should be taken as 42 wherever applicable."
   ]
  },
  {
   "cell_type": "markdown",
   "metadata": {
    "id": "v9auhUNiS8PD"
   },
   "source": [
    "# Metadata\n",
    "\n",
    "1. id-Unique identifier of a customer  \n",
    "2. gender-Gender of the customer   \n",
    "3. area-Area of the customer   \n",
    "4. qualification-Highest Qualification of the customer  \n",
    "5. income-Income earned in a year (in rupees).   \n",
    "6. marital_status- 0:Single, 1: Married \n",
    "7. vintage-No. of years since the first policy date.  \n",
    "8. claim_amount-Total Amount Claimed by the customer (in rupees) \n",
    "9. num_policies-Total no. of policies issued by the customer \n",
    "10. policy-Active policy of the customer \n",
    "11. type_of_policy-Type of active policy\n",
    "12. cltv- Customer life time value. It is the total amount of money a customer is expected to spend with your business, or on your products, during the lifetime of an average business relationship. [TARGET]"
   ]
  },
  {
   "cell_type": "markdown",
   "metadata": {
    "id": "nQto3Wx3Gyxp"
   },
   "source": [
    "### Q1. [marks : 0] Which dataset are you using for this exam?\n",
    "\n",
    "Options:\n",
    "\n",
    "A) V1\n",
    "\n",
    "B) V2\n",
    "\n",
    "C) V3\n",
    "\n",
    "D) V4\n",
    "\n",
    "E) V5\n",
    "\n",
    "Answer: V1: A, V2:B, V3: C, V4:D, V5:E\n"
   ]
  },
  {
   "cell_type": "code",
   "execution_count": null,
   "metadata": {
    "colab": {
     "base_uri": "https://localhost:8080/"
    },
    "id": "YM4cxmoSR1y5",
    "outputId": "86fc867f-ad28-45c2-8d0d-9114bd872794"
   },
   "outputs": [
    {
     "name": "stdout",
     "output_type": "stream",
     "text": [
      "Mounted at /content/gdrive/\n"
     ]
    }
   ],
   "source": [
    "from google.colab import drive\n",
    "drive.mount('/content/gdrive/', force_remount=True)"
   ]
  },
  {
   "cell_type": "code",
   "execution_count": null,
   "metadata": {
    "id": "_Bmq4RsoSpb4"
   },
   "outputs": [],
   "source": [
    "#Import Libraries\n",
    "import pandas as pd\n",
    "import numpy as np\n",
    "import matplotlib.pyplot as plt\n",
    "import seaborn as sns"
   ]
  },
  {
   "cell_type": "code",
   "execution_count": null,
   "metadata": {
    "id": "uNqGUdvq57qx"
   },
   "outputs": [],
   "source": [
    "import warnings\n",
    "warnings.filterwarnings(\"ignore\")"
   ]
  },
  {
   "cell_type": "code",
   "execution_count": null,
   "metadata": {
    "id": "gHU_pPPhSjTp"
   },
   "outputs": [],
   "source": [
    "# load dataset by yourself from the location of the file\n",
    "data = pd.read_csv(use appropriate filename)"
   ]
  },
  {
   "cell_type": "code",
   "execution_count": null,
   "metadata": {
    "colab": {
     "base_uri": "https://localhost:8080/"
    },
    "id": "6invGgIHyK-q",
    "outputId": "d6c21be8-972b-4dac-e9ab-c800baeb7dc4"
   },
   "outputs": [
    {
     "data": {
      "text/plain": [
       "(6257, 12)"
      ]
     },
     "execution_count": 6,
     "metadata": {},
     "output_type": "execute_result"
    }
   ],
   "source": [
    "data.shape"
   ]
  },
  {
   "cell_type": "code",
   "execution_count": null,
   "metadata": {
    "colab": {
     "base_uri": "https://localhost:8080/",
     "height": 206
    },
    "id": "dpAe8NQUTvJ7",
    "outputId": "e75c3ca3-87eb-4328-94e8-c2ba7d2bdc15"
   },
   "outputs": [
    {
     "data": {
      "text/html": [
       "\n",
       "  <div id=\"df-0e9f678e-249b-4de4-9071-6fff94b82990\">\n",
       "    <div class=\"colab-df-container\">\n",
       "      <div>\n",
       "<style scoped>\n",
       "    .dataframe tbody tr th:only-of-type {\n",
       "        vertical-align: middle;\n",
       "    }\n",
       "\n",
       "    .dataframe tbody tr th {\n",
       "        vertical-align: top;\n",
       "    }\n",
       "\n",
       "    .dataframe thead th {\n",
       "        text-align: right;\n",
       "    }\n",
       "</style>\n",
       "<table border=\"1\" class=\"dataframe\">\n",
       "  <thead>\n",
       "    <tr style=\"text-align: right;\">\n",
       "      <th></th>\n",
       "      <th>id</th>\n",
       "      <th>gender</th>\n",
       "      <th>area</th>\n",
       "      <th>qualification</th>\n",
       "      <th>income</th>\n",
       "      <th>marital_status</th>\n",
       "      <th>vintage</th>\n",
       "      <th>claim_amount</th>\n",
       "      <th>num_policies</th>\n",
       "      <th>policy</th>\n",
       "      <th>type_of_policy</th>\n",
       "      <th>cltv</th>\n",
       "    </tr>\n",
       "  </thead>\n",
       "  <tbody>\n",
       "    <tr>\n",
       "      <th>0</th>\n",
       "      <td>27529</td>\n",
       "      <td>Male</td>\n",
       "      <td>Urban</td>\n",
       "      <td>High School</td>\n",
       "      <td>42.99</td>\n",
       "      <td>0</td>\n",
       "      <td>0</td>\n",
       "      <td>3849.0</td>\n",
       "      <td>1</td>\n",
       "      <td>A</td>\n",
       "      <td>Platinum</td>\n",
       "      <td>66816</td>\n",
       "    </tr>\n",
       "    <tr>\n",
       "      <th>1</th>\n",
       "      <td>27116</td>\n",
       "      <td>Male</td>\n",
       "      <td>Rural</td>\n",
       "      <td>Bachelor</td>\n",
       "      <td>5.33</td>\n",
       "      <td>1</td>\n",
       "      <td>6</td>\n",
       "      <td>3006.0</td>\n",
       "      <td>More than 1</td>\n",
       "      <td>A</td>\n",
       "      <td>Gold</td>\n",
       "      <td>67164</td>\n",
       "    </tr>\n",
       "    <tr>\n",
       "      <th>2</th>\n",
       "      <td>6499</td>\n",
       "      <td>Female</td>\n",
       "      <td>Urban</td>\n",
       "      <td>High School</td>\n",
       "      <td>2.26</td>\n",
       "      <td>1</td>\n",
       "      <td>2</td>\n",
       "      <td>NaN</td>\n",
       "      <td>More than 1</td>\n",
       "      <td>A</td>\n",
       "      <td>Platinum</td>\n",
       "      <td>68076</td>\n",
       "    </tr>\n",
       "    <tr>\n",
       "      <th>3</th>\n",
       "      <td>61863</td>\n",
       "      <td>Male</td>\n",
       "      <td>Rural</td>\n",
       "      <td>High School</td>\n",
       "      <td>20.29</td>\n",
       "      <td>1</td>\n",
       "      <td>8</td>\n",
       "      <td>2844.0</td>\n",
       "      <td>More than 1</td>\n",
       "      <td>A</td>\n",
       "      <td>Platinum</td>\n",
       "      <td>63276</td>\n",
       "    </tr>\n",
       "    <tr>\n",
       "      <th>4</th>\n",
       "      <td>25045</td>\n",
       "      <td>Female</td>\n",
       "      <td>Urban</td>\n",
       "      <td>High School</td>\n",
       "      <td>5.63</td>\n",
       "      <td>0</td>\n",
       "      <td>6</td>\n",
       "      <td>6370.0</td>\n",
       "      <td>More than 1</td>\n",
       "      <td>A</td>\n",
       "      <td>Platinum</td>\n",
       "      <td>245844</td>\n",
       "    </tr>\n",
       "  </tbody>\n",
       "</table>\n",
       "</div>\n",
       "      <button class=\"colab-df-convert\" onclick=\"convertToInteractive('df-0e9f678e-249b-4de4-9071-6fff94b82990')\"\n",
       "              title=\"Convert this dataframe to an interactive table.\"\n",
       "              style=\"display:none;\">\n",
       "        \n",
       "  <svg xmlns=\"http://www.w3.org/2000/svg\" height=\"24px\"viewBox=\"0 0 24 24\"\n",
       "       width=\"24px\">\n",
       "    <path d=\"M0 0h24v24H0V0z\" fill=\"none\"/>\n",
       "    <path d=\"M18.56 5.44l.94 2.06.94-2.06 2.06-.94-2.06-.94-.94-2.06-.94 2.06-2.06.94zm-11 1L8.5 8.5l.94-2.06 2.06-.94-2.06-.94L8.5 2.5l-.94 2.06-2.06.94zm10 10l.94 2.06.94-2.06 2.06-.94-2.06-.94-.94-2.06-.94 2.06-2.06.94z\"/><path d=\"M17.41 7.96l-1.37-1.37c-.4-.4-.92-.59-1.43-.59-.52 0-1.04.2-1.43.59L10.3 9.45l-7.72 7.72c-.78.78-.78 2.05 0 2.83L4 21.41c.39.39.9.59 1.41.59.51 0 1.02-.2 1.41-.59l7.78-7.78 2.81-2.81c.8-.78.8-2.07 0-2.86zM5.41 20L4 18.59l7.72-7.72 1.47 1.35L5.41 20z\"/>\n",
       "  </svg>\n",
       "      </button>\n",
       "      \n",
       "  <style>\n",
       "    .colab-df-container {\n",
       "      display:flex;\n",
       "      flex-wrap:wrap;\n",
       "      gap: 12px;\n",
       "    }\n",
       "\n",
       "    .colab-df-convert {\n",
       "      background-color: #E8F0FE;\n",
       "      border: none;\n",
       "      border-radius: 50%;\n",
       "      cursor: pointer;\n",
       "      display: none;\n",
       "      fill: #1967D2;\n",
       "      height: 32px;\n",
       "      padding: 0 0 0 0;\n",
       "      width: 32px;\n",
       "    }\n",
       "\n",
       "    .colab-df-convert:hover {\n",
       "      background-color: #E2EBFA;\n",
       "      box-shadow: 0px 1px 2px rgba(60, 64, 67, 0.3), 0px 1px 3px 1px rgba(60, 64, 67, 0.15);\n",
       "      fill: #174EA6;\n",
       "    }\n",
       "\n",
       "    [theme=dark] .colab-df-convert {\n",
       "      background-color: #3B4455;\n",
       "      fill: #D2E3FC;\n",
       "    }\n",
       "\n",
       "    [theme=dark] .colab-df-convert:hover {\n",
       "      background-color: #434B5C;\n",
       "      box-shadow: 0px 1px 3px 1px rgba(0, 0, 0, 0.15);\n",
       "      filter: drop-shadow(0px 1px 2px rgba(0, 0, 0, 0.3));\n",
       "      fill: #FFFFFF;\n",
       "    }\n",
       "  </style>\n",
       "\n",
       "      <script>\n",
       "        const buttonEl =\n",
       "          document.querySelector('#df-0e9f678e-249b-4de4-9071-6fff94b82990 button.colab-df-convert');\n",
       "        buttonEl.style.display =\n",
       "          google.colab.kernel.accessAllowed ? 'block' : 'none';\n",
       "\n",
       "        async function convertToInteractive(key) {\n",
       "          const element = document.querySelector('#df-0e9f678e-249b-4de4-9071-6fff94b82990');\n",
       "          const dataTable =\n",
       "            await google.colab.kernel.invokeFunction('convertToInteractive',\n",
       "                                                     [key], {});\n",
       "          if (!dataTable) return;\n",
       "\n",
       "          const docLinkHtml = 'Like what you see? Visit the ' +\n",
       "            '<a target=\"_blank\" href=https://colab.research.google.com/notebooks/data_table.ipynb>data table notebook</a>'\n",
       "            + ' to learn more about interactive tables.';\n",
       "          element.innerHTML = '';\n",
       "          dataTable['output_type'] = 'display_data';\n",
       "          await google.colab.output.renderOutput(dataTable, element);\n",
       "          const docLink = document.createElement('div');\n",
       "          docLink.innerHTML = docLinkHtml;\n",
       "          element.appendChild(docLink);\n",
       "        }\n",
       "      </script>\n",
       "    </div>\n",
       "  </div>\n",
       "  "
      ],
      "text/plain": [
       "      id  gender   area qualification  income  marital_status  vintage  \\\n",
       "0  27529    Male  Urban   High School   42.99               0        0   \n",
       "1  27116    Male  Rural      Bachelor    5.33               1        6   \n",
       "2   6499  Female  Urban   High School    2.26               1        2   \n",
       "3  61863    Male  Rural   High School   20.29               1        8   \n",
       "4  25045  Female  Urban   High School    5.63               0        6   \n",
       "\n",
       "   claim_amount num_policies policy type_of_policy    cltv  \n",
       "0        3849.0            1      A       Platinum   66816  \n",
       "1        3006.0  More than 1      A           Gold   67164  \n",
       "2           NaN  More than 1      A       Platinum   68076  \n",
       "3        2844.0  More than 1      A       Platinum   63276  \n",
       "4        6370.0  More than 1      A       Platinum  245844  "
      ]
     },
     "execution_count": 7,
     "metadata": {},
     "output_type": "execute_result"
    }
   ],
   "source": [
    "data.head()"
   ]
  },
  {
   "cell_type": "markdown",
   "metadata": {
    "id": "K97r2pjBGyux"
   },
   "source": [
    "## Q.2 [Marks: 2] How many total number of features (excluding target variable) are there in the dataset?\n",
    "\n",
    "Options\n",
    "\n",
    "(a) 1000\n",
    "\n",
    "(b) 11\n",
    "\n",
    "(c) 12\n",
    "\n",
    "(d) 10\n",
    "\n",
    "Answer: V1,V2, V3, V4, V5: Option (b)"
   ]
  },
  {
   "cell_type": "code",
   "execution_count": null,
   "metadata": {
    "colab": {
     "base_uri": "https://localhost:8080/"
    },
    "id": "DdK5r0UUTFw4",
    "outputId": "70e5d859-2e3f-4ef2-c4f7-b651074555d1"
   },
   "outputs": [
    {
     "name": "stdout",
     "output_type": "stream",
     "text": [
      "No of Columns: 11\n"
     ]
    }
   ],
   "source": [
    "print('No of Columns:',data.shape[1]-1) #-1 is there to exclude target variable"
   ]
  },
  {
   "cell_type": "markdown",
   "metadata": {
    "id": "cJog5TIGGyr6"
   },
   "source": [
    "## Q.3 [Marks: 2] What are the unique values of feature `Types of Policy` in the dataset?\n",
    "\n",
    "A) ['Bronze', 'Gold']\n",
    "\n",
    "B) ['Gold', 'Silver']\n",
    "\n",
    "C) ['Platinum', 'Gold', 'Silver', 'Bronze]\n",
    "\n",
    "D) ['Platinum', 'Gold', 'Silver']\n",
    "\n",
    "Answer: V1,V2, V3, V4, V5: option D"
   ]
  },
  {
   "cell_type": "code",
   "execution_count": null,
   "metadata": {
    "colab": {
     "base_uri": "https://localhost:8080/"
    },
    "id": "fejAYEmOTTEy",
    "outputId": "dede90e5-98c7-4d4c-c679-406ddc55b411"
   },
   "outputs": [
    {
     "data": {
      "text/plain": [
       "array(['Platinum', 'Gold', 'Silver'], dtype=object)"
      ]
     },
     "execution_count": 10,
     "metadata": {},
     "output_type": "execute_result"
    }
   ],
   "source": [
    "data[\"type_of_policy\"].unique() "
   ]
  },
  {
   "cell_type": "markdown",
   "metadata": {
    "id": "Ucx5gHksGynf"
   },
   "source": [
    "## Q.4 [Marks: 3] Which of the following columns have categorical data?[MSQ]\n",
    "\n",
    "A) income\n",
    "\n",
    "B) id\n",
    "\n",
    "C) area\n",
    "\n",
    "D) claim_amount\n",
    "\n",
    "E) qualification\n",
    "\n",
    "Answer V1,V2,V3, V4, V5 : Option C & E\n"
   ]
  },
  {
   "cell_type": "code",
   "execution_count": null,
   "metadata": {
    "colab": {
     "base_uri": "https://localhost:8080/"
    },
    "id": "rvhcznio6qbJ",
    "outputId": "a32c82f0-f993-46b5-fdc1-e6e7dc51c7eb"
   },
   "outputs": [
    {
     "name": "stdout",
     "output_type": "stream",
     "text": [
      "<class 'pandas.core.frame.DataFrame'>\n",
      "RangeIndex: 6257 entries, 0 to 6256\n",
      "Data columns (total 12 columns):\n",
      " #   Column          Non-Null Count  Dtype  \n",
      "---  ------          --------------  -----  \n",
      " 0   id              6257 non-null   int64  \n",
      " 1   gender          6257 non-null   object \n",
      " 2   area            5873 non-null   object \n",
      " 3   qualification   6257 non-null   object \n",
      " 4   income          5856 non-null   float64\n",
      " 5   marital_status  6257 non-null   int64  \n",
      " 6   vintage         6257 non-null   int64  \n",
      " 7   claim_amount    5897 non-null   float64\n",
      " 8   num_policies    6257 non-null   object \n",
      " 9   policy          5885 non-null   object \n",
      " 10  type_of_policy  6257 non-null   object \n",
      " 11  cltv            6257 non-null   int64  \n",
      "dtypes: float64(2), int64(4), object(6)\n",
      "memory usage: 586.7+ KB\n"
     ]
    }
   ],
   "source": [
    "data.info() "
   ]
  },
  {
   "cell_type": "code",
   "execution_count": null,
   "metadata": {
    "id": "PXYrFwlITYhP"
   },
   "outputs": [],
   "source": [
    "numCols = list(data.select_dtypes(\"number\").columns)\n",
    "catCols = list(data.select_dtypes(exclude = \"number\").columns)"
   ]
  },
  {
   "cell_type": "markdown",
   "metadata": {
    "id": "LgXn7J4FGyko"
   },
   "source": [
    "## Q5.[Marks: 4] Plot the `heatmap` and mark the pair which has the highest positive correlation value. [MCQ]\n",
    "\n",
    "A) claim_amount & income\n",
    "\n",
    "B) income & cltv\n",
    "\n",
    "C) vintage & income.\n",
    "\n",
    "D) claim_amount & cltv.\n",
    "\n",
    "Ans: V1, V2,V3,V4,V5 : Option D\n"
   ]
  },
  {
   "cell_type": "code",
   "execution_count": null,
   "metadata": {
    "colab": {
     "base_uri": "https://localhost:8080/",
     "height": 505
    },
    "id": "N9GR3ZlcUZtx",
    "outputId": "1074b533-8ebc-4743-afb4-a0e9cd3b5d80"
   },
   "outputs": [
    {
     "data": {
      "text/plain": [
       "<AxesSubplot:>"
      ]
     },
     "execution_count": 20,
     "metadata": {},
     "output_type": "execute_result"
    },
    {
     "data": {
      "image/png": "[encoded data removed]",
      "text/plain": [
       "<Figure size 864x576 with 2 Axes>"
      ]
     },
     "metadata": {
      "needs_background": "light"
     },
     "output_type": "display_data"
    }
   ],
   "source": [
    "plt.figure(figsize=(12,8))\n",
    "sns.heatmap(data.corr(),annot=True)  # data.corr() will give a correlation matrix for features containing numerical data"
   ]
  },
  {
   "cell_type": "markdown",
   "metadata": {
    "id": "pn-AI_QMGygd"
   },
   "source": [
    "## Q6 [marks: 2] Which of the following features have `missing` values?[MSQ]\n",
    "\n",
    "Options:\n",
    "\n",
    "A) gender\n",
    "\n",
    "B) area \n",
    "\n",
    "C) qualification\n",
    "\n",
    "D) income\n",
    "\n",
    "E) claim_amount\n",
    "\n",
    "F) policy\n",
    "\n",
    "\n",
    "Answer: V1,V2, V3, V4, V5 : option B,D,E,F\n"
   ]
  },
  {
   "cell_type": "code",
   "execution_count": null,
   "metadata": {
    "colab": {
     "base_uri": "https://localhost:8080/"
    },
    "id": "1KRac5yLVLYZ",
    "outputId": "868dcc27-7bda-4c0f-aa4a-009153783dd4"
   },
   "outputs": [
    {
     "data": {
      "text/plain": [
       "id                  0\n",
       "gender              0\n",
       "area              384\n",
       "qualification       0\n",
       "income            401\n",
       "marital_status      0\n",
       "vintage             0\n",
       "claim_amount      360\n",
       "num_policies        0\n",
       "policy            372\n",
       "type_of_policy      0\n",
       "cltv                0\n",
       "dtype: int64"
      ]
     },
     "execution_count": 21,
     "metadata": {},
     "output_type": "execute_result"
    }
   ],
   "source": [
    "data.isnull().sum() #to check null values"
   ]
  },
  {
   "cell_type": "markdown",
   "metadata": {
    "id": "sAs8JqfQqkME"
   },
   "source": [
    "##Q7 [Marks = 4] Break the dataset into features(`X`) and label (`y`), where the column `cltv` goes to `y` and the rest of the columns go to `X`. Enter the avg value of `cltv` column? [NAT]\n",
    "\n",
    "Answer:\n",
    "\n",
    "V1: 97788.08 (Range: 97640 - 97700)\n",
    "\n",
    "V2: 98616.73 (Range: 98600 - 98650)\n",
    "\n",
    "V3: 96557.26 (Range: 96530 - 96600)\n",
    "\n",
    "V4: 98753.60 (Range: 98700 - 98800)\n",
    "\n",
    "V5: 99423.43 (Range: 99400- 99450)\n"
   ]
  },
  {
   "cell_type": "code",
   "execution_count": null,
   "metadata": {
    "colab": {
     "base_uri": "https://localhost:8080/"
    },
    "id": "yk8we_ONqvaD",
    "outputId": "fb2a0aa2-14da-4240-ce77-786413baab2e"
   },
   "outputs": [
    {
     "data": {
      "text/plain": [
       "((6257, 11), (6257,))"
      ]
     },
     "execution_count": 22,
     "metadata": {},
     "output_type": "execute_result"
    }
   ],
   "source": [
    "X = data.drop(['cltv'], axis= \"columns\")   # works on pandas dataframe  \n",
    "y = data['cltv']\n",
    "\n",
    "# iloc function also work\n",
    "\n",
    "# X = data.iloc[:,:-1]\n",
    "# y = data.iloc[:,-1]\n",
    "\n",
    "X.shape,y.shape"
   ]
  },
  {
   "cell_type": "code",
   "execution_count": null,
   "metadata": {
    "colab": {
     "base_uri": "https://localhost:8080/"
    },
    "id": "BOwSYrLfq2hh",
    "outputId": "d93d548d-4b3c-4603-d9d7-0b9c8e0e79c8"
   },
   "outputs": [
    {
     "data": {
      "text/plain": [
       "97788.08"
      ]
     },
     "execution_count": 23,
     "metadata": {},
     "output_type": "execute_result"
    }
   ],
   "source": [
    "np.round(y.mean(),2)"
   ]
  },
  {
   "cell_type": "markdown",
   "metadata": {
    "id": "7PGUoXxgsXZo"
   },
   "source": [
    "# Q8 [Marks : 3] Split the dataset into training and test dataset using `train_test_split` into `70:30` ratio while keeping random_state =42. What is the shape of the training set (X_train) ? [MCQ]\n",
    "\n",
    "Ans: \n",
    "\n",
    "A) (4379, 11)\n",
    "\n",
    "B) (4392, 13)\n",
    "\n",
    "C) (4340, 11)\n",
    "\n",
    "D) (4379, 15)\n",
    "\n",
    "Ans: A"
   ]
  },
  {
   "cell_type": "code",
   "execution_count": null,
   "metadata": {
    "colab": {
     "base_uri": "https://localhost:8080/"
    },
    "id": "lc0FOfddr96W",
    "outputId": "c68b9c82-7381-4bce-9853-f85b04cf30c2"
   },
   "outputs": [
    {
     "data": {
      "text/plain": [
       "((4379, 11), (1878, 11))"
      ]
     },
     "execution_count": 24,
     "metadata": {},
     "output_type": "execute_result"
    }
   ],
   "source": [
    "from sklearn.model_selection import train_test_split\n",
    "X_train, X_test, y_train, y_test = train_test_split(X, y, test_size=0.3, random_state=42)\n",
    "X_train.shape,X_test.shape"
   ]
  },
  {
   "cell_type": "markdown",
   "metadata": {
    "id": "0HaH6Af_GyWj"
   },
   "source": [
    "## Q9 [Mark 2] Drop(remove) `id` column from train and test data because it is not useful in model training. Now how many feature columns are remaining in the training dataset? [NAT]\n",
    "\n",
    "ANS \n",
    "\n",
    "V1,V2,V3,V4,V5 : 10"
   ]
  },
  {
   "cell_type": "code",
   "execution_count": null,
   "metadata": {
    "colab": {
     "base_uri": "https://localhost:8080/"
    },
    "id": "XFyMjYWfuFBZ",
    "outputId": "dd028e22-8367-4493-be33-0749564bc752"
   },
   "outputs": [
    {
     "name": "stdout",
     "output_type": "stream",
     "text": [
      "columns in dataset : 10\n"
     ]
    }
   ],
   "source": [
    "X_train.drop(['id'],axis=1,inplace=True)\n",
    "X_test.drop(['id'],axis=1,inplace=True)\n",
    "\n",
    "\n",
    "X_train.iloc[:,1:]\n",
    "X_test.iloc[:,1:]\n",
    "\n",
    "\n",
    "print(f\"columns in dataset : {X_train.shape[1]}\")"
   ]
  },
  {
   "cell_type": "markdown",
   "metadata": {
    "id": "pfXCwvwTGydl"
   },
   "source": [
    "# Replace missing values as instructed below in each column of data."
   ]
  },
  {
   "cell_type": "markdown",
   "metadata": {
    "id": "nssDgFIUy1id"
   },
   "source": [
    "##Q10 [Marks2] Compute and write median of the `income` column of X_train while ignoring the missing values. Replace all NaN values in the income column of X_train and X_test by the median  computed from the X_train (upto two decimal). [NAT]. \n",
    "\n",
    "Ans\n",
    "\n",
    "V1: 7.04\n",
    "\n",
    "V2: 7.17\n",
    "\n",
    "V3: 7.05\n",
    "\n",
    "V4: 7.07\n",
    "\n",
    "V5: 6.89"
   ]
  },
  {
   "cell_type": "code",
   "execution_count": null,
   "metadata": {
    "colab": {
     "base_uri": "https://localhost:8080/"
    },
    "id": "mvzZHwoh5IvA",
    "outputId": "57bed051-29bc-44d3-ac65-44b3e5231569"
   },
   "outputs": [
    {
     "name": "stdout",
     "output_type": "stream",
     "text": [
      "X_train median:  7.04\n"
     ]
    }
   ],
   "source": [
    "# Using SimpleImputer from sklearn\n",
    "\n",
    "print(\"X_train median: \", np.median(X_train['income']))\n",
    "\n",
    "from sklearn.impute import SimpleImputer\n",
    "\n",
    "si = SimpleImputer(missing_values=np.nan, strategy= 'median')\n",
    "\n",
    "X_train['income'] = si.fit_transform(X_train[['income']])\n",
    "\n",
    "X_test['income'] = si.transform(X_test[['income']])\n"
   ]
  },
  {
   "cell_type": "code",
   "execution_count": null,
   "metadata": {
    "colab": {
     "base_uri": "https://localhost:8080/"
    },
    "id": "JxXb3FVG0nEe",
    "outputId": "3515771b-6d5d-458f-9eec-fe1b2493d48b"
   },
   "outputs": [
    {
     "name": "stdout",
     "output_type": "stream",
     "text": [
      "7.04\n"
     ]
    }
   ],
   "source": [
    "# # using fillna() from pandas \n",
    "\n",
    "# income_median = X_train['income'].median()\n",
    "# print(income_median)\n",
    "\n",
    "# X_train.fillna(value= {\"income\": income_median},inplace=True)\n",
    "\n",
    "# X_test.fillna(value= {\"income\": income_median},inplace=True)"
   ]
  },
  {
   "cell_type": "markdown",
   "metadata": {
    "id": "TT1riW4-zU5V"
   },
   "source": [
    "##Q11 [2 Marks] Which is the most frequent value in the `policy` column of X_train? Replace all NaN value in `policy` column of X_train and X_test by most frequent value in X_train [MCQ]\n",
    "\n",
    "a) 'A'\n",
    "\n",
    "b) 'B'\n",
    "\n",
    "c) 'C'\n",
    "\n",
    "d) None of the above\n",
    "\n",
    "\n",
    "Ans:  a) 'A'"
   ]
  },
  {
   "cell_type": "code",
   "execution_count": null,
   "metadata": {
    "colab": {
     "base_uri": "https://localhost:8080/"
    },
    "id": "aTGC9lqi6XMB",
    "outputId": "f2ce4d3b-ad6a-4194-df8d-852f78df581a"
   },
   "outputs": [
    {
     "name": "stdout",
     "output_type": "stream",
     "text": [
      "X_train most frequent policy:  A\n"
     ]
    }
   ],
   "source": [
    "# Using SimpleImputer from sklearn\n",
    "\n",
    "from scipy import stats\n",
    "\n",
    "print(\"X_train most frequent policy: \", stats.mode(X_train['policy'])[0][0])\n",
    "\n",
    "si = SimpleImputer(missing_values=np.nan, strategy= 'most_frequent')\n",
    "\n",
    "X_train['policy'] = si.fit_transform(X_train[['policy']])\n",
    "\n",
    "X_test['policy'] = si.transform(X_test[['policy']])\n"
   ]
  },
  {
   "cell_type": "code",
   "execution_count": null,
   "metadata": {
    "colab": {
     "base_uri": "https://localhost:8080/"
    },
    "id": "9G_UPUN603-w",
    "outputId": "8a109588-536e-4bd4-c5aa-dc42c638e9a2"
   },
   "outputs": [
    {
     "name": "stdout",
     "output_type": "stream",
     "text": [
      "A    2827\n",
      "B    1160\n",
      "C     392\n",
      "Name: policy, dtype: int64\n",
      "Most Frequent policy: A\n"
     ]
    }
   ],
   "source": [
    "# # using fillna() from pandas\n",
    "\n",
    "# print(X_train['policy'].value_counts())\n",
    "\n",
    "# policy_most_freq = X_train['policy'].mode()\n",
    "\n",
    "# print(\"Most Frequent policy:\",policy_most_freq[0])\n",
    "\n",
    "# X_train.fillna(value= { \"policy\": policy_most_freq[0]},inplace=True)\n",
    "\n",
    "# X_test.fillna(value= { \"policy\": policy_most_freq[0]},inplace=True)\n"
   ]
  },
  {
   "cell_type": "markdown",
   "metadata": {
    "id": "YEzQPlO85Wh0"
   },
   "source": [
    "##Q12 [2 Marks] Which is the most frequent value in the `area` column of X_train? Replace all NaN value in `area` column of X_train and X_test by most frequent value from X_train [MCQ]\n",
    "\n",
    "a) 'Urban'\n",
    "\n",
    "b) 'Rural'\n",
    "\n",
    "c) 'Semi-Urban'\n",
    "\n",
    "d) None of the above\n",
    "\n",
    "\n",
    "Ans:  a) 'A'"
   ]
  },
  {
   "cell_type": "code",
   "execution_count": null,
   "metadata": {
    "colab": {
     "base_uri": "https://localhost:8080/"
    },
    "id": "i4NS6QUn9sRo",
    "outputId": "18f89449-028a-4abd-8859-a1a05cbc02c4"
   },
   "outputs": [
    {
     "name": "stdout",
     "output_type": "stream",
     "text": [
      "X_train most frequent area:  Urban\n"
     ]
    }
   ],
   "source": [
    "# Using SimpleImputer from sklearn \n",
    "\n",
    "print(\"X_train most frequent area: \", stats.mode(X_train['area'])[0][0])\n",
    "\n",
    "si = SimpleImputer(missing_values=np.nan, strategy= 'most_frequent')\n",
    "\n",
    "X_train['area'] = si.fit_transform(X_train[['area']])  # fit_transform\n",
    " \n",
    "X_test['area'] = si.transform(X_test[['area']])  # transform\n"
   ]
  },
  {
   "cell_type": "code",
   "execution_count": null,
   "metadata": {
    "colab": {
     "base_uri": "https://localhost:8080/"
    },
    "id": "cGl9Vi0d5o7C",
    "outputId": "9df7339f-ff07-4763-a733-ad2e88f05f5d"
   },
   "outputs": [
    {
     "name": "stdout",
     "output_type": "stream",
     "text": [
      "Urban    2915\n",
      "Rural    1182\n",
      "Name: area, dtype: int64\n",
      "Most Frequent Urban\n"
     ]
    }
   ],
   "source": [
    "# # using fillna() from pandas\n",
    "\n",
    "# print(X_train['area'].value_counts())\n",
    "\n",
    "# area_most_freq = X_train['area'].mode()\n",
    "\n",
    "# print(\"Most Frequent area: \",area_most_freq[0])\n",
    "\n",
    "# X_train.fillna(value= { \"area\": area_most_freq[0]},inplace=True)\n",
    "\n",
    "# X_test.fillna(value= { \"area\": area_most_freq[0]},inplace=True)\n"
   ]
  },
  {
   "cell_type": "markdown",
   "metadata": {
    "id": "NZ22aId6zoNE"
   },
   "source": [
    "## Q13[2 Marks] Replace all NaN value in claim_amount column of X_train and X_test by 0 (Zero). After Replacing NAN values from claim_amount column what is the standard deviation of claim_amount column in X_train. (correct upto two decimal places) [NAT]\n",
    "\n",
    "V1: 3358.66\n",
    "\n",
    "V2: 3384.55\n",
    "\n",
    "V3: 3308.99\n",
    "\n",
    "V4: 3297.89\n",
    "\n",
    "V5: 3330.75"
   ]
  },
  {
   "cell_type": "code",
   "execution_count": null,
   "metadata": {
    "colab": {
     "base_uri": "https://localhost:8080/"
    },
    "id": "z-T6YwKg-YEu",
    "outputId": "5d53c7db-098e-409b-c44b-f58706b7ff6f"
   },
   "outputs": [
    {
     "data": {
      "text/plain": [
       "3358.66"
      ]
     },
     "execution_count": 60,
     "metadata": {},
     "output_type": "execute_result"
    }
   ],
   "source": [
    "# Using Simple Imputer \n",
    "\n",
    "si = SimpleImputer(missing_values=np.nan, strategy= 'constant', fill_value= 0)\n",
    "X_train['claim_amount'] = si.fit_transform(X_train[['claim_amount']])\n",
    "X_test['claim_amount'] = si.transform(X_test[['claim_amount']])\n",
    "\n",
    "np.round(X_train['claim_amount'].std(),2)"
   ]
  },
  {
   "cell_type": "code",
   "execution_count": null,
   "metadata": {
    "colab": {
     "base_uri": "https://localhost:8080/"
    },
    "id": "nRKx_r4m10Yw",
    "outputId": "5c25ba9e-a9d5-40e3-f7a7-2f45cf9d65c5"
   },
   "outputs": [
    {
     "data": {
      "text/plain": [
       "3358.66"
      ]
     },
     "execution_count": 61,
     "metadata": {},
     "output_type": "execute_result"
    }
   ],
   "source": [
    "# # using fillna() from pandas\n",
    "\n",
    "# X_train.fillna(value= {\"claim_amount\": 0},inplace=True)\n",
    "\n",
    "# X_test.fillna(value= {\"claim_amount\": 0},inplace=True)\n",
    "\n",
    "# np.round(X_train['claim_amount'].std(),2)"
   ]
  },
  {
   "cell_type": "code",
   "execution_count": null,
   "metadata": {
    "colab": {
     "base_uri": "https://localhost:8080/"
    },
    "id": "BMdiXIK1hpWF",
    "outputId": "d99c3773-0963-4f87-e6be-2e3c337cd512"
   },
   "outputs": [
    {
     "data": {
      "text/plain": [
       "gender            0\n",
       "area              0\n",
       "qualification     0\n",
       "income            0\n",
       "marital_status    0\n",
       "vintage           0\n",
       "claim_amount      0\n",
       "num_policies      0\n",
       "policy            0\n",
       "type_of_policy    0\n",
       "dtype: int64"
      ]
     },
     "execution_count": 62,
     "metadata": {},
     "output_type": "execute_result"
    }
   ],
   "source": [
    "X_train.isnull().sum()"
   ]
  },
  {
   "cell_type": "code",
   "execution_count": null,
   "metadata": {
    "colab": {
     "base_uri": "https://localhost:8080/"
    },
    "id": "HsBFaqJRw076",
    "outputId": "ef2ecc6a-66c7-46ea-d2e8-31a965eeacf9"
   },
   "outputs": [
    {
     "data": {
      "text/plain": [
       "gender            0\n",
       "area              0\n",
       "qualification     0\n",
       "income            0\n",
       "marital_status    0\n",
       "vintage           0\n",
       "claim_amount      0\n",
       "num_policies      0\n",
       "policy            0\n",
       "type_of_policy    0\n",
       "dtype: int64"
      ]
     },
     "execution_count": 63,
     "metadata": {},
     "output_type": "execute_result"
    }
   ],
   "source": [
    "X_test.isnull().sum()"
   ]
  },
  {
   "cell_type": "markdown",
   "metadata": {
    "id": "P5o-HWICtaMZ"
   },
   "source": [
    "#Q14 [Marks: 4] Apply `MinMaxScaler` on `income` column of X_train. Compute and write median of `income` column? (correct Upto 2 decimal)[NAT]\n",
    "\n",
    "V1: 0.07\n",
    "\n",
    "V2: 0.07\n",
    "\n",
    "V3: 0.07\n",
    "\n",
    "V4: 0.07\n",
    "\n",
    "V5: 0.07"
   ]
  },
  {
   "cell_type": "code",
   "execution_count": null,
   "metadata": {
    "colab": {
     "base_uri": "https://localhost:8080/"
    },
    "id": "29L-6gcPMIN_",
    "outputId": "7bf94c0c-02d7-403e-abc8-57b09c48403e"
   },
   "outputs": [
    {
     "data": {
      "text/plain": [
       "0.07"
      ]
     },
     "execution_count": 54,
     "metadata": {},
     "output_type": "execute_result"
    }
   ],
   "source": [
    "from sklearn.preprocessing import MinMaxScaler\n",
    "mms = MinMaxScaler()\n",
    "mms_income = mms.fit_transform(X_train[['income']])\n",
    "\n",
    "mms_income[:,0].shape\n",
    "\n",
    "np.round(np.median(mms_income[:,0]),2)"
   ]
  },
  {
   "cell_type": "markdown",
   "metadata": {
    "id": "GgCfE-E5GyDx"
   },
   "source": [
    "# Apply preprocessing on features of X_train and X_test dataset.\n",
    "\n",
    "## For Categorical Features \n",
    "\n",
    "* Apply OneHotEncoding from `sklearn` library on all categorical features(object columns). Do Encoding in the order of following list\n",
    "\n",
    "* ['gender', 'area','qualification','marital_status', 'num_policies', 'policy', 'type_of_policy']\n",
    "\n",
    "Lets call the transformed caterical feature matrix $X_1$\n",
    "\n",
    "## For Numerical Features \n",
    "\n",
    "apply MinMaxScaler and transform the dataset. Do scaling in the order of following list\n",
    "\n",
    "Numerical Features =  [ 'income', 'vintage', 'claim_amount' ]\n",
    "\n",
    "\n",
    "Lets call the transformed numerical feature matrix $X_2$\n",
    "\n",
    "### concatenate(One Hot Encoded Features, Scaled Numerical Features)\n",
    "\n",
    "After combining transformed categorical feature($X_1$) matrix and transformed numerical feature matrix ($X_2$) (side by side in that order), the output will be $X=[X_1 X_2]$\n",
    "\n",
    "## Hints\n",
    "* Apply ColumnTransformer to encode categorical columns scaling on numerical columns with required preprocessor\n",
    "\n",
    "* Another way is to separately encode all categorical columns and scale numerical columns and do concatenate (`hstack`) both. keep categorical columns in front of numerical while concatenating. \n",
    "\n",
    "\n",
    "The transformed (as desribed by above steps) X_train and X_test, should be considered as X_train and X_test henceforth.\n",
    "\n",
    "\n"
   ]
  },
  {
   "cell_type": "markdown",
   "metadata": {
    "id": "uzUkRXzGUj80"
   },
   "source": [
    "![preprocessing.jpg](data:image/jpeg;base64,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)"
   ]
  },
  {
   "cell_type": "markdown",
   "metadata": {
    "id": "HxYFO2iYk_pe"
   },
   "source": [
    "## Q15 [Marks:10] How many features you will get after preprocessing? [MCQ]\n",
    "\n",
    "\n",
    "[Options]\n",
    "\n",
    "A) 13\n",
    "\n",
    "B) 20\n",
    "\n",
    "C) 25\n",
    "\n",
    "D) 01 \n",
    "\n",
    "Ans : B) 20"
   ]
  },
  {
   "cell_type": "code",
   "execution_count": null,
   "metadata": {
    "id": "lHN6ajTXs5E2"
   },
   "outputs": [],
   "source": [
    "from sklearn.preprocessing import OneHotEncoder\n",
    "from sklearn.preprocessing import MinMaxScaler\n",
    "from sklearn.compose import  ColumnTransformer\n",
    "from sklearn import set_config\n",
    "set_config(display='diagram')"
   ]
  },
  {
   "cell_type": "code",
   "execution_count": null,
   "metadata": {
    "colab": {
     "base_uri": "https://localhost:8080/",
     "height": 117
    },
    "id": "yjVETKjTNfeD",
    "outputId": "5976de85-ae5e-4613-9537-b869ca6f4ae1"
   },
   "outputs": [
    {
     "data": {
      "text/html": [
       "<style>#sk-container-id-1 {color: black;background-color: white;}#sk-container-id-1 pre{padding: 0;}#sk-container-id-1 div.sk-toggleable {background-color: white;}#sk-container-id-1 label.sk-toggleable__label {cursor: pointer;display: block;width: 100%;margin-bottom: 0;padding: 0.3em;box-sizing: border-box;text-align: center;}#sk-container-id-1 label.sk-toggleable__label-arrow:before {content: \"▸\";float: left;margin-right: 0.25em;color: #696969;}#sk-container-id-1 label.sk-toggleable__label-arrow:hover:before {color: black;}#sk-container-id-1 div.sk-estimator:hover label.sk-toggleable__label-arrow:before {color: black;}#sk-container-id-1 div.sk-toggleable__content {max-height: 0;max-width: 0;overflow: hidden;text-align: left;background-color: #f0f8ff;}#sk-container-id-1 div.sk-toggleable__content pre {margin: 0.2em;color: black;border-radius: 0.25em;background-color: #f0f8ff;}#sk-container-id-1 input.sk-toggleable__control:checked~div.sk-toggleable__content {max-height: 200px;max-width: 100%;overflow: auto;}#sk-container-id-1 input.sk-toggleable__control:checked~label.sk-toggleable__label-arrow:before {content: \"▾\";}#sk-container-id-1 div.sk-estimator input.sk-toggleable__control:checked~label.sk-toggleable__label {background-color: #d4ebff;}#sk-container-id-1 div.sk-label input.sk-toggleable__control:checked~label.sk-toggleable__label {background-color: #d4ebff;}#sk-container-id-1 input.sk-hidden--visually {border: 0;clip: rect(1px 1px 1px 1px);clip: rect(1px, 1px, 1px, 1px);height: 1px;margin: -1px;overflow: hidden;padding: 0;position: absolute;width: 1px;}#sk-container-id-1 div.sk-estimator {font-family: monospace;background-color: #f0f8ff;border: 1px dotted black;border-radius: 0.25em;box-sizing: border-box;margin-bottom: 0.5em;}#sk-container-id-1 div.sk-estimator:hover {background-color: #d4ebff;}#sk-container-id-1 div.sk-parallel-item::after {content: \"\";width: 100%;border-bottom: 1px solid gray;flex-grow: 1;}#sk-container-id-1 div.sk-label:hover label.sk-toggleable__label {background-color: #d4ebff;}#sk-container-id-1 div.sk-serial::before {content: \"\";position: absolute;border-left: 1px solid gray;box-sizing: border-box;top: 0;bottom: 0;left: 50%;z-index: 0;}#sk-container-id-1 div.sk-serial {display: flex;flex-direction: column;align-items: center;background-color: white;padding-right: 0.2em;padding-left: 0.2em;position: relative;}#sk-container-id-1 div.sk-item {position: relative;z-index: 1;}#sk-container-id-1 div.sk-parallel {display: flex;align-items: stretch;justify-content: center;background-color: white;position: relative;}#sk-container-id-1 div.sk-item::before, #sk-container-id-1 div.sk-parallel-item::before {content: \"\";position: absolute;border-left: 1px solid gray;box-sizing: border-box;top: 0;bottom: 0;left: 50%;z-index: -1;}#sk-container-id-1 div.sk-parallel-item {display: flex;flex-direction: column;z-index: 1;position: relative;background-color: white;}#sk-container-id-1 div.sk-parallel-item:first-child::after {align-self: flex-end;width: 50%;}#sk-container-id-1 div.sk-parallel-item:last-child::after {align-self: flex-start;width: 50%;}#sk-container-id-1 div.sk-parallel-item:only-child::after {width: 0;}#sk-container-id-1 div.sk-dashed-wrapped {border: 1px dashed gray;margin: 0 0.4em 0.5em 0.4em;box-sizing: border-box;padding-bottom: 0.4em;background-color: white;}#sk-container-id-1 div.sk-label label {font-family: monospace;font-weight: bold;display: inline-block;line-height: 1.2em;}#sk-container-id-1 div.sk-label-container {text-align: center;}#sk-container-id-1 div.sk-container {/* jupyter's `normalize.less` sets `[hidden] { display: none; }` but bootstrap.min.css set `[hidden] { display: none !important; }` so we also need the `!important` here to be able to override the default hidden behavior on the sphinx rendered scikit-learn.org. See: https://github.com/scikit-learn/scikit-learn/issues/21755 */display: inline-block !important;position: relative;}#sk-container-id-1 div.sk-text-repr-fallback {display: none;}</style><div id=\"sk-container-id-1\" class=\"sk-top-container\"><div class=\"sk-text-repr-fallback\"><pre>ColumnTransformer(transformers=[(&#x27;OHE&#x27;, OneHotEncoder(),\n",
       "                                 [&#x27;gender&#x27;, &#x27;area&#x27;, &#x27;qualification&#x27;,\n",
       "                                  &#x27;marital_status&#x27;, &#x27;num_policies&#x27;, &#x27;policy&#x27;,\n",
       "                                  &#x27;type_of_policy&#x27;]),\n",
       "                                (&#x27;scaler&#x27;, MinMaxScaler(),\n",
       "                                 [&#x27;income&#x27;, &#x27;vintage&#x27;, &#x27;claim_amount&#x27;])])</pre><b>In a Jupyter environment, please rerun this cell to show the HTML representation or trust the notebook. <br />On GitHub, the HTML representation is unable to render, please try loading this page with nbviewer.org.</b></div><div class=\"sk-container\" hidden><div class=\"sk-item sk-dashed-wrapped\"><div class=\"sk-label-container\"><div class=\"sk-label sk-toggleable\"><input class=\"sk-toggleable__control sk-hidden--visually\" id=\"sk-estimator-id-1\" type=\"checkbox\" ><label for=\"sk-estimator-id-1\" class=\"sk-toggleable__label sk-toggleable__label-arrow\">ColumnTransformer</label><div class=\"sk-toggleable__content\"><pre>ColumnTransformer(transformers=[(&#x27;OHE&#x27;, OneHotEncoder(),\n",
       "                                 [&#x27;gender&#x27;, &#x27;area&#x27;, &#x27;qualification&#x27;,\n",
       "                                  &#x27;marital_status&#x27;, &#x27;num_policies&#x27;, &#x27;policy&#x27;,\n",
       "                                  &#x27;type_of_policy&#x27;]),\n",
       "                                (&#x27;scaler&#x27;, MinMaxScaler(),\n",
       "                                 [&#x27;income&#x27;, &#x27;vintage&#x27;, &#x27;claim_amount&#x27;])])</pre></div></div></div><div class=\"sk-parallel\"><div class=\"sk-parallel-item\"><div class=\"sk-item\"><div class=\"sk-label-container\"><div class=\"sk-label sk-toggleable\"><input class=\"sk-toggleable__control sk-hidden--visually\" id=\"sk-estimator-id-2\" type=\"checkbox\" ><label for=\"sk-estimator-id-2\" class=\"sk-toggleable__label sk-toggleable__label-arrow\">OHE</label><div class=\"sk-toggleable__content\"><pre>[&#x27;gender&#x27;, &#x27;area&#x27;, &#x27;qualification&#x27;, &#x27;marital_status&#x27;, &#x27;num_policies&#x27;, &#x27;policy&#x27;, &#x27;type_of_policy&#x27;]</pre></div></div></div><div class=\"sk-serial\"><div class=\"sk-item\"><div class=\"sk-estimator sk-toggleable\"><input class=\"sk-toggleable__control sk-hidden--visually\" id=\"sk-estimator-id-3\" type=\"checkbox\" ><label for=\"sk-estimator-id-3\" class=\"sk-toggleable__label sk-toggleable__label-arrow\">OneHotEncoder</label><div class=\"sk-toggleable__content\"><pre>OneHotEncoder()</pre></div></div></div></div></div></div><div class=\"sk-parallel-item\"><div class=\"sk-item\"><div class=\"sk-label-container\"><div class=\"sk-label sk-toggleable\"><input class=\"sk-toggleable__control sk-hidden--visually\" id=\"sk-estimator-id-4\" type=\"checkbox\" ><label for=\"sk-estimator-id-4\" class=\"sk-toggleable__label sk-toggleable__label-arrow\">scaler</label><div class=\"sk-toggleable__content\"><pre>[&#x27;income&#x27;, &#x27;vintage&#x27;, &#x27;claim_amount&#x27;]</pre></div></div></div><div class=\"sk-serial\"><div class=\"sk-item\"><div class=\"sk-estimator sk-toggleable\"><input class=\"sk-toggleable__control sk-hidden--visually\" id=\"sk-estimator-id-5\" type=\"checkbox\" ><label for=\"sk-estimator-id-5\" class=\"sk-toggleable__label sk-toggleable__label-arrow\">MinMaxScaler</label><div class=\"sk-toggleable__content\"><pre>MinMaxScaler()</pre></div></div></div></div></div></div></div></div></div></div>"
      ],
      "text/plain": [
       "ColumnTransformer(transformers=[('OHE', OneHotEncoder(),\n",
       "                                 ['gender', 'area', 'qualification',\n",
       "                                  'marital_status', 'num_policies', 'policy',\n",
       "                                  'type_of_policy']),\n",
       "                                ('scaler', MinMaxScaler(),\n",
       "                                 ['income', 'vintage', 'claim_amount'])])"
      ]
     },
     "execution_count": 56,
     "metadata": {},
     "output_type": "execute_result"
    }
   ],
   "source": [
    "transformer = [\n",
    "    (\"OHE\",OneHotEncoder(),['gender', 'area','qualification','marital_status', 'num_policies', 'policy', 'type_of_policy']),\n",
    "    ('scaler', MinMaxScaler(), ['income','vintage','claim_amount'])\n",
    "]\n",
    "\n",
    "ct = ColumnTransformer(transformer)\n",
    "\n",
    "ct"
   ]
  },
  {
   "cell_type": "code",
   "execution_count": null,
   "metadata": {
    "colab": {
     "base_uri": "https://localhost:8080/"
    },
    "id": "PiiKx03ZtWZN",
    "outputId": "8e9e2016-3014-4436-ef0e-1aa086ada7ee"
   },
   "outputs": [
    {
     "data": {
      "text/plain": [
       "((4379, 20), (1878, 20))"
      ]
     },
     "execution_count": 57,
     "metadata": {},
     "output_type": "execute_result"
    }
   ],
   "source": [
    "pro_X_train = ct.fit_transform(X_train)\n",
    "pro_X_test = ct.transform(X_test)\n",
    "\n",
    "pro_X_train.shape,pro_X_test.shape"
   ]
  },
  {
   "cell_type": "markdown",
   "metadata": {
    "id": "OWtGs74pF4l_"
   },
   "source": [
    "# Solution 2"
   ]
  },
  {
   "cell_type": "code",
   "execution_count": null,
   "metadata": {
    "colab": {
     "base_uri": "https://localhost:8080/"
    },
    "id": "YHRxu4PdKncc",
    "outputId": "40da1412-f12f-4d1c-cdb0-7cf47e2e109c"
   },
   "outputs": [
    {
     "data": {
      "text/plain": [
       "(4379, 20)"
      ]
     },
     "execution_count": 65,
     "metadata": {},
     "output_type": "execute_result"
    }
   ],
   "source": [
    "# X_train\n",
    "# Categorical Features\n",
    "\n",
    "ohe = OneHotEncoder()\n",
    "X_train_category = X_train[['gender', 'area','qualification','marital_status', 'num_policies', 'policy', 'type_of_policy']]\n",
    "\n",
    "X1 = ohe.fit_transform(X_train_category).toarray()\n",
    "\n",
    "mms = MinMaxScaler()\n",
    "X2 = mms.fit_transform(X_train[['income','vintage','claim_amount']])\n",
    "\n",
    "\n",
    "pro_X_train = np.hstack((X1, X2))\n",
    "pro_X_train.shape"
   ]
  },
  {
   "cell_type": "code",
   "execution_count": null,
   "metadata": {
    "colab": {
     "base_uri": "https://localhost:8080/"
    },
    "id": "CHF2mLgWCnVV",
    "outputId": "5acc725e-85a1-418f-9270-083b94a0b0cf"
   },
   "outputs": [
    {
     "data": {
      "text/plain": [
       "(1878, 20)"
      ]
     },
     "execution_count": 66,
     "metadata": {},
     "output_type": "execute_result"
    }
   ],
   "source": [
    "# X_test\n",
    "\n",
    "# Categorical Features\n",
    "\n",
    "X_test_category = X_test[['gender', 'area','qualification','marital_status', 'num_policies', 'policy', 'type_of_policy']]\n",
    "X_test_numerical = X_test[['income','vintage','claim_amount']]\n",
    "\n",
    "X1_test = ohe.transform(X_test_category).toarray()\n",
    "\n",
    "#Numerical Features\n",
    "\n",
    "X2_test = mms.transform(X_test_numerical)\n",
    "\n",
    "pro_X_test = np.hstack((X1_test, X2_test))\n",
    "\n",
    "pro_X_test.shape"
   ]
  },
  {
   "cell_type": "code",
   "execution_count": null,
   "metadata": {
    "colab": {
     "base_uri": "https://localhost:8080/"
    },
    "id": "vXuYq8XWLN09",
    "outputId": "6c129c06-707a-440f-a012-ff4b0ebedfe4"
   },
   "outputs": [
    {
     "data": {
      "text/plain": [
       "((4379, 20), (1878, 20))"
      ]
     },
     "execution_count": 67,
     "metadata": {},
     "output_type": "execute_result"
    }
   ],
   "source": [
    "pro_X_train.shape, pro_X_test.shape "
   ]
  },
  {
   "cell_type": "markdown",
   "metadata": {
    "id": "g_4iv8oEM37l"
   },
   "source": [
    "## Q16 [Marks 5 ] Apply `SequentialFeatureSelector` transformer with direction= 'forward' with `LinearRegression()` estimator and select 5 features by fitting to the X_train and y_train. \n",
    "\n",
    "* Use cv = KFold(n_splits=5,random_state=42,shuffle=True) in SequentialFeatureSelector.\n",
    "\n",
    "## Which of the following options represents the correct integer index of the selected features list?\n",
    "\n",
    "\n",
    "A) [ 6  9 12 13 19]\n",
    "\n",
    "B) [ 3  6  9 13 19]\n",
    "\n",
    "C) [ 8  9 12 14 19]\n",
    "\n",
    "D) [ 1  2  9 13 19]\n",
    "\n",
    "E) [ 3  7 10 13 19]\n",
    "\n",
    "\n",
    "\n",
    "V1 : A) \n",
    "\n",
    "V2 : B)\n",
    "\n",
    "V3 : C) \n",
    "\n",
    "V4 : D) \n",
    "\n",
    "V5 : E)"
   ]
  },
  {
   "cell_type": "code",
   "execution_count": null,
   "metadata": {
    "colab": {
     "base_uri": "https://localhost:8080/"
    },
    "id": "ws6pGtUQHpFt",
    "outputId": "d1f2eebc-77aa-47fe-a4d5-751caaf366ed"
   },
   "outputs": [
    {
     "name": "stdout",
     "output_type": "stream",
     "text": [
      "[ 3  7 10 13 19]\n"
     ]
    }
   ],
   "source": [
    "from sklearn.model_selection import KFold\n",
    "from sklearn.linear_model import LinearRegression\n",
    "lr = LinearRegression()\n",
    "kf = KFold(n_splits=5,random_state=42,shuffle=True)\n",
    "\n",
    "from sklearn.feature_selection import SequentialFeatureSelector\n",
    "sfs = SequentialFeatureSelector(lr, n_features_to_select=5,cv=kf,direction='forward')\n",
    "sfs.fit_transform(pro_X_train, y_train)\n",
    "print(sfs.get_support(indices=True))"
   ]
  },
  {
   "cell_type": "markdown",
   "metadata": {
    "id": "cYQVfoMALdaz"
   },
   "source": [
    "## Q17 [Marks: 3] Apply `LinearRegression` on the trainig set(`X_train` and `y_train`). What is the `R2 score` on the test set(`X_test` and `y_test`). ( Upto 4 digits after decimal points) [NAT]\n",
    "\n",
    "ANS: \n",
    "\n",
    "V1: 0.1432 (Range: 0.1410 - 0.1450)\n",
    "\n",
    "V2: 0.1459 (Range: 0.1450 - 0.1480) \n",
    "\n",
    "V3: 0.1387 (Range: 0.1360 - 0.1420)\n",
    "\n",
    "V4: 0.1438 (Range: 0.1410 - 0.1470)\n",
    "\n",
    "V5: 0.1479 (Range: 0.1450 - 0.1520)\n"
   ]
  },
  {
   "cell_type": "code",
   "execution_count": null,
   "metadata": {
    "colab": {
     "base_uri": "https://localhost:8080/",
     "height": 74
    },
    "id": "vYMSaBVLvjwc",
    "outputId": "7fa345b6-6475-4ec1-ef01-8ab697f4bbb1"
   },
   "outputs": [
    {
     "data": {
      "text/html": [
       "<style>#sk-container-id-68 {color: black;background-color: white;}#sk-container-id-68 pre{padding: 0;}#sk-container-id-68 div.sk-toggleable {background-color: white;}#sk-container-id-68 label.sk-toggleable__label {cursor: pointer;display: block;width: 100%;margin-bottom: 0;padding: 0.3em;box-sizing: border-box;text-align: center;}#sk-container-id-68 label.sk-toggleable__label-arrow:before {content: \"▸\";float: left;margin-right: 0.25em;color: #696969;}#sk-container-id-68 label.sk-toggleable__label-arrow:hover:before {color: black;}#sk-container-id-68 div.sk-estimator:hover label.sk-toggleable__label-arrow:before {color: black;}#sk-container-id-68 div.sk-toggleable__content {max-height: 0;max-width: 0;overflow: hidden;text-align: left;background-color: #f0f8ff;}#sk-container-id-68 div.sk-toggleable__content pre {margin: 0.2em;color: black;border-radius: 0.25em;background-color: #f0f8ff;}#sk-container-id-68 input.sk-toggleable__control:checked~div.sk-toggleable__content {max-height: 200px;max-width: 100%;overflow: auto;}#sk-container-id-68 input.sk-toggleable__control:checked~label.sk-toggleable__label-arrow:before {content: \"▾\";}#sk-container-id-68 div.sk-estimator input.sk-toggleable__control:checked~label.sk-toggleable__label {background-color: #d4ebff;}#sk-container-id-68 div.sk-label input.sk-toggleable__control:checked~label.sk-toggleable__label {background-color: #d4ebff;}#sk-container-id-68 input.sk-hidden--visually {border: 0;clip: rect(1px 1px 1px 1px);clip: rect(1px, 1px, 1px, 1px);height: 1px;margin: -1px;overflow: hidden;padding: 0;position: absolute;width: 1px;}#sk-container-id-68 div.sk-estimator {font-family: monospace;background-color: #f0f8ff;border: 1px dotted black;border-radius: 0.25em;box-sizing: border-box;margin-bottom: 0.5em;}#sk-container-id-68 div.sk-estimator:hover {background-color: #d4ebff;}#sk-container-id-68 div.sk-parallel-item::after {content: \"\";width: 100%;border-bottom: 1px solid gray;flex-grow: 1;}#sk-container-id-68 div.sk-label:hover label.sk-toggleable__label {background-color: #d4ebff;}#sk-container-id-68 div.sk-serial::before {content: \"\";position: absolute;border-left: 1px solid gray;box-sizing: border-box;top: 0;bottom: 0;left: 50%;z-index: 0;}#sk-container-id-68 div.sk-serial {display: flex;flex-direction: column;align-items: center;background-color: white;padding-right: 0.2em;padding-left: 0.2em;position: relative;}#sk-container-id-68 div.sk-item {position: relative;z-index: 1;}#sk-container-id-68 div.sk-parallel {display: flex;align-items: stretch;justify-content: center;background-color: white;position: relative;}#sk-container-id-68 div.sk-item::before, #sk-container-id-68 div.sk-parallel-item::before {content: \"\";position: absolute;border-left: 1px solid gray;box-sizing: border-box;top: 0;bottom: 0;left: 50%;z-index: -1;}#sk-container-id-68 div.sk-parallel-item {display: flex;flex-direction: column;z-index: 1;position: relative;background-color: white;}#sk-container-id-68 div.sk-parallel-item:first-child::after {align-self: flex-end;width: 50%;}#sk-container-id-68 div.sk-parallel-item:last-child::after {align-self: flex-start;width: 50%;}#sk-container-id-68 div.sk-parallel-item:only-child::after {width: 0;}#sk-container-id-68 div.sk-dashed-wrapped {border: 1px dashed gray;margin: 0 0.4em 0.5em 0.4em;box-sizing: border-box;padding-bottom: 0.4em;background-color: white;}#sk-container-id-68 div.sk-label label {font-family: monospace;font-weight: bold;display: inline-block;line-height: 1.2em;}#sk-container-id-68 div.sk-label-container {text-align: center;}#sk-container-id-68 div.sk-container {/* jupyter's `normalize.less` sets `[hidden] { display: none; }` but bootstrap.min.css set `[hidden] { display: none !important; }` so we also need the `!important` here to be able to override the default hidden behavior on the sphinx rendered scikit-learn.org. See: https://github.com/scikit-learn/scikit-learn/issues/21755 */display: inline-block !important;position: relative;}#sk-container-id-68 div.sk-text-repr-fallback {display: none;}</style><div id=\"sk-container-id-68\" class=\"sk-top-container\"><div class=\"sk-text-repr-fallback\"><pre>LinearRegression()</pre><b>In a Jupyter environment, please rerun this cell to show the HTML representation or trust the notebook. <br />On GitHub, the HTML representation is unable to render, please try loading this page with nbviewer.org.</b></div><div class=\"sk-container\" hidden><div class=\"sk-item\"><div class=\"sk-estimator sk-toggleable\"><input class=\"sk-toggleable__control sk-hidden--visually\" id=\"sk-estimator-id-211\" type=\"checkbox\" checked><label for=\"sk-estimator-id-211\" class=\"sk-toggleable__label sk-toggleable__label-arrow\">LinearRegression</label><div class=\"sk-toggleable__content\"><pre>LinearRegression()</pre></div></div></div></div></div>"
      ],
      "text/plain": [
       "LinearRegression()"
      ]
     },
     "execution_count": 1090,
     "metadata": {},
     "output_type": "execute_result"
    }
   ],
   "source": [
    "from sklearn.linear_model import LinearRegression\n",
    "lr = LinearRegression()\n",
    "lr.fit(pro_X_train,y_train)"
   ]
  },
  {
   "cell_type": "code",
   "execution_count": null,
   "metadata": {
    "colab": {
     "base_uri": "https://localhost:8080/"
    },
    "id": "JOql-CLvwfee",
    "outputId": "a78a5f91-f34c-49cc-f802-7fbbf7c4877a"
   },
   "outputs": [
    {
     "data": {
      "text/plain": [
       "0.1479"
      ]
     },
     "execution_count": 1091,
     "metadata": {},
     "output_type": "execute_result"
    }
   ],
   "source": [
    "np.round(lr.score(pro_X_test,y_test),4)"
   ]
  },
  {
   "cell_type": "markdown",
   "metadata": {
    "id": "-E0R8cyjMT2b"
   },
   "source": [
    "## Q18 [Marks: 6]Using the `LinearRegression` model, compute the `cross-validation scores` for `5 splits` on training data (X_train and y_train) using `cross_val_score`.Enter the maximum value of `𝑅2 score` ( Upto 4 digits after decimal points) obtained.[NAT]\n",
    "\n",
    "* Use cv = KFold(n_splits=5,random_state=42,shuffle=True) in SequentialFeatureSelector.\n",
    "\n",
    "(Hint: By default cross_val_score uses LinearRegression's scoring metric, which is  𝑅2 score.)\n",
    "\n",
    "Ans:\n",
    "\n",
    "V1: 0.1815 (Range: 0.1790-0.1845) \n",
    "\n",
    "V2: 0.1559 (Range: 0.1530 -0.1590) \n",
    "\n",
    "V3: 0.1610 (Range: 0.1580-0.1640)\n",
    "\n",
    "v4: 0.1574 (Range: 0.1530-0.1600)\n",
    "\n",
    "V5: 0.1605 (Range: 0.1570-0.1630)\n",
    "\n"
   ]
  },
  {
   "cell_type": "code",
   "execution_count": null,
   "metadata": {
    "colab": {
     "base_uri": "https://localhost:8080/"
    },
    "id": "iI5KK3klxdqN",
    "outputId": "dcba589e-d092-439e-eb4d-e374da5f881e"
   },
   "outputs": [
    {
     "data": {
      "text/plain": [
       "0.1605"
      ]
     },
     "execution_count": 1092,
     "metadata": {},
     "output_type": "execute_result"
    }
   ],
   "source": [
    "from sklearn.model_selection import cross_val_score\n",
    "kf = KFold(n_splits=5,random_state=42,shuffle=True)\n",
    "score = cross_val_score(lr, pro_X_train, y_train, cv=kf) #Which cv value should we give?\n",
    "np.round(np.max(score),4)"
   ]
  },
  {
   "cell_type": "markdown",
   "metadata": {
    "id": "v32far1QM3st"
   },
   "source": [
    "## Q19 [Marks :5]Apply Ridge regression with random_state=42 with default penalty value on training set(X_train and y_train) and calculate the 𝑅2 score on test_set (X_test and y_test). What is the correct score ( Upto 4 digits after decimal points)? [NAT]\n",
    "\n",
    "\n",
    "V1: 0.1445 (Range: 0.1410 - 0.1470) \n",
    "\n",
    "V2: 0.1460 (Range: 0.1430 - 0.1490)\n",
    "\n",
    "V3: 0.1398 (Range: 0.1370 - 0.1430)\n",
    "\n",
    "V4: 0.1442 (Range: 0.1410 - 0.1470)\n",
    "\n",
    "V5: 0.1473 (Range: 0.1430 - 0.1600)"
   ]
  },
  {
   "cell_type": "code",
   "execution_count": null,
   "metadata": {
    "colab": {
     "base_uri": "https://localhost:8080/"
    },
    "id": "1YYTIwRky7Jw",
    "outputId": "79b9099d-aee3-4041-d423-b524931b0c21"
   },
   "outputs": [
    {
     "data": {
      "text/plain": [
       "0.1473"
      ]
     },
     "execution_count": 1093,
     "metadata": {},
     "output_type": "execute_result"
    }
   ],
   "source": [
    "from sklearn.linear_model import Ridge\n",
    "clf = Ridge(random_state=42)\n",
    "clf.fit(pro_X_train, y_train)\n",
    "np.round(clf.score(pro_X_test,y_test),4)"
   ]
  },
  {
   "cell_type": "markdown",
   "metadata": {
    "id": "wJCI9T37M3j2"
   },
   "source": [
    "## Q20: [Marks 6] Apply `Lasso regression` with random_state=42 and regularization rate=0.1 on the training data(X_train & y_train). Enter the value of the `intercept` you got correctly upto 2 digits after decimal points . [NAT]\n",
    "\n",
    "V1: 103168.82 (Range: 103130 - 103195) \n",
    "\n",
    "V2: 112942.96 (Range: 112900 - 112980)\n",
    "\n",
    "V3: 103279.20 (Range: 103230 - 103320)\n",
    "\n",
    "V4: 108057.90 (Range: 108000 - 108100)\n",
    "\n",
    "V5: 107300.60 (Range: 107250 - 107350)\n"
   ]
  },
  {
   "cell_type": "code",
   "execution_count": null,
   "metadata": {
    "colab": {
     "base_uri": "https://localhost:8080/"
    },
    "id": "E-cBKxtIzVbe",
    "outputId": "21a144f2-4e78-4d38-9d13-f368b5f47bcd"
   },
   "outputs": [
    {
     "name": "stdout",
     "output_type": "stream",
     "text": [
      "107300.6\n"
     ]
    }
   ],
   "source": [
    "from sklearn.linear_model import Lasso\n",
    "clf2 = Lasso(alpha=0.1,random_state=42)\n",
    "clf2.fit(pro_X_train, y_train)\n",
    "print(np.round(clf2.intercept_,2))"
   ]
  },
  {
   "cell_type": "markdown",
   "metadata": {
    "id": "S3qGEP8kh6IB"
   },
   "source": [
    "## Q21 [Marks 5]  Fit `SGDRegressor(random_state=42)` estimator on the training data(X_train & y_train) and predict labels for test_data(X_test), lets call it as `y_test_predict`. The parameters are initialized with default values. Calculate and mark the correct `mean_absolute_error` value between `y_test` and `y_test_predict` from the given options. (Correct upto two decimals) [NAT] \n",
    "\n",
    "Mean Absolute Error\n",
    "\n",
    "V1: 52840.14 (Range: 52800 - 52880)\n",
    "\n",
    "V2: 52662.70 (Range: 52630 - 52690)\n",
    "\n",
    "V3: 50541.40 (Range: 50510 - 50570) \n",
    "\n",
    "V4: 55884.28 (Range: 55840 - 55920)\n",
    "\n",
    "V5: 55261.57 (Range: 55230 - 55290)\n"
   ]
  },
  {
   "cell_type": "code",
   "execution_count": null,
   "metadata": {
    "id": "zG1PH1nLiB2d"
   },
   "outputs": [],
   "source": [
    "from sklearn.linear_model import SGDRegressor\n",
    "reg = SGDRegressor(random_state=42)\n",
    "reg.fit(pro_X_train, y_train)\n",
    "y_pred_Test = reg.predict(pro_X_test)"
   ]
  },
  {
   "cell_type": "code",
   "execution_count": null,
   "metadata": {
    "colab": {
     "base_uri": "https://localhost:8080/"
    },
    "id": "Brb8k5RhkQ7q",
    "outputId": "3bd90792-af82-4855-c446-e7a29c2273d0"
   },
   "outputs": [
    {
     "data": {
      "text/plain": [
       "55261.57"
      ]
     },
     "execution_count": 1096,
     "metadata": {},
     "output_type": "execute_result"
    }
   ],
   "source": [
    "from sklearn.metrics import mean_absolute_error\n",
    "mae = mean_absolute_error(y_test, y_pred_Test)\n",
    "np.round(mae,2)"
   ]
  },
  {
   "cell_type": "markdown",
   "metadata": {
    "id": "7b3Rg1DIRKKZ"
   },
   "source": [
    "##Q22: [Marks 6] Using `SGDRegressor(random_state=42)` as an estimator for exactly 10 iterations. \n",
    "\n",
    "Write the correct R2 score on test data  [NAT] (correct Upto 4 digits)\n",
    "\n",
    "Ans:\n",
    "\n",
    "V1: 0.1421 (Range: 0.1390 - 0.1450)\n",
    "\n",
    "V2: 0.1403 (Range: 0.1380 - 0.1440)\n",
    "\n",
    "V3: 0.1367 (Range: 0.1335 - 0.1400)\n",
    "\n",
    "V4: 0.1421 (Range: 0.1390 - 0.1450)\n",
    "\n",
    "V5: 0.1475 (Range: 0.1430 - 0.1510)\n"
   ]
  },
  {
   "cell_type": "code",
   "execution_count": null,
   "metadata": {
    "colab": {
     "base_uri": "https://localhost:8080/"
    },
    "id": "bgkdQIXYU6EG",
    "outputId": "cf4b1d3d-4c74-4d6d-cd4c-272bf1eefc98"
   },
   "outputs": [
    {
     "data": {
      "text/plain": [
       "0.1475"
      ]
     },
     "execution_count": 1097,
     "metadata": {},
     "output_type": "execute_result"
    }
   ],
   "source": [
    "from sklearn.linear_model import SGDRegressor\n",
    "\n",
    "sgd = SGDRegressor(random_state=42,max_iter=10)\n",
    "\n",
    "sgd.fit(pro_X_train, y_train)\n",
    "\n",
    "np.round(sgd.score(pro_X_test,y_test),4)"
   ]
  },
  {
   "cell_type": "markdown",
   "metadata": {
    "id": "3cK8OSTpPEOQ"
   },
   "source": [
    "# (Common Instructions for Question 23 and 24)\n",
    "\n",
    "##Create a pipeline Using PolynomialFeatures as transformer and Lasso as estimator. Use GridSearchCV with this created pipeline and following hyperparameter values on training data(X_train, y_train) to fit the model .\n",
    "\n",
    "1. Keep polynomial degree as : [1, 2]\n",
    "2. alpha value to be taken as : np.logspace(-3, 0, num=5)\n",
    "3. scoring : neg_mean_absolute_error .\n",
    "\n",
    "(Note: Kindly ignore the warning.)"
   ]
  },
  {
   "cell_type": "markdown",
   "metadata": {
    "id": "2RbDz0u0PS6x"
   },
   "source": [
    "## Q23 [6 Marks] Mark the best `alpha` value you got using above instructions.[MCQ]\n",
    "\n",
    "A) 0.001\n",
    "\n",
    "B) 0.00562341\n",
    "\n",
    "C) 0.03162278\n",
    "\n",
    "D) 0.17782794\n",
    "\n",
    "E) 1.00\n",
    "\n",
    "Ans: E) 1.00"
   ]
  },
  {
   "cell_type": "markdown",
   "metadata": {
    "id": "M2XC2KKAPet_"
   },
   "source": [
    "## Q24 [5 Marks] Enter the best polynomial degree value you got using above instructions.[NAT]\n",
    "\n",
    "Ans:\n",
    "\n",
    "V1: 1\n",
    "\n",
    "V2: 2\n",
    "\n",
    "V3: 1\n",
    "\n",
    "V4: 1\n",
    "\n",
    "V5: 1\n"
   ]
  },
  {
   "cell_type": "code",
   "execution_count": null,
   "metadata": {
    "id": "q7INrx-p6Aej"
   },
   "outputs": [],
   "source": [
    "from sklearn.model_selection import GridSearchCV\n",
    "from sklearn.preprocessing import StandardScaler\n",
    "from sklearn.preprocessing import PolynomialFeatures\n",
    "from sklearn.pipeline import Pipeline\n",
    "from sklearn.linear_model import Lasso"
   ]
  },
  {
   "cell_type": "code",
   "execution_count": null,
   "metadata": {
    "colab": {
     "base_uri": "https://localhost:8080/"
    },
    "id": "FUOIx_-0p-G4",
    "outputId": "b256f306-8aee-4131-d5a6-081e68c50247"
   },
   "outputs": [
    {
     "data": {
      "text/plain": [
       "array([0.001     , 0.00562341, 0.03162278, 0.17782794, 1.        ])"
      ]
     },
     "execution_count": 1099,
     "metadata": {},
     "output_type": "execute_result"
    }
   ],
   "source": [
    "np.logspace(-3, 0, num=5)"
   ]
  },
  {
   "cell_type": "code",
   "execution_count": null,
   "metadata": {
    "colab": {
     "base_uri": "https://localhost:8080/",
     "height": 151
    },
    "id": "Rcyujw6w6B25",
    "outputId": "bc26e67a-1ba4-4606-fa5e-6a7a32a695e5"
   },
   "outputs": [
    {
     "data": {
      "text/html": [
       "<style>#sk-container-id-69 {color: black;background-color: white;}#sk-container-id-69 pre{padding: 0;}#sk-container-id-69 div.sk-toggleable {background-color: white;}#sk-container-id-69 label.sk-toggleable__label {cursor: pointer;display: block;width: 100%;margin-bottom: 0;padding: 0.3em;box-sizing: border-box;text-align: center;}#sk-container-id-69 label.sk-toggleable__label-arrow:before {content: \"▸\";float: left;margin-right: 0.25em;color: #696969;}#sk-container-id-69 label.sk-toggleable__label-arrow:hover:before {color: black;}#sk-container-id-69 div.sk-estimator:hover label.sk-toggleable__label-arrow:before {color: black;}#sk-container-id-69 div.sk-toggleable__content {max-height: 0;max-width: 0;overflow: hidden;text-align: left;background-color: #f0f8ff;}#sk-container-id-69 div.sk-toggleable__content pre {margin: 0.2em;color: black;border-radius: 0.25em;background-color: #f0f8ff;}#sk-container-id-69 input.sk-toggleable__control:checked~div.sk-toggleable__content {max-height: 200px;max-width: 100%;overflow: auto;}#sk-container-id-69 input.sk-toggleable__control:checked~label.sk-toggleable__label-arrow:before {content: \"▾\";}#sk-container-id-69 div.sk-estimator input.sk-toggleable__control:checked~label.sk-toggleable__label {background-color: #d4ebff;}#sk-container-id-69 div.sk-label input.sk-toggleable__control:checked~label.sk-toggleable__label {background-color: #d4ebff;}#sk-container-id-69 input.sk-hidden--visually {border: 0;clip: rect(1px 1px 1px 1px);clip: rect(1px, 1px, 1px, 1px);height: 1px;margin: -1px;overflow: hidden;padding: 0;position: absolute;width: 1px;}#sk-container-id-69 div.sk-estimator {font-family: monospace;background-color: #f0f8ff;border: 1px dotted black;border-radius: 0.25em;box-sizing: border-box;margin-bottom: 0.5em;}#sk-container-id-69 div.sk-estimator:hover {background-color: #d4ebff;}#sk-container-id-69 div.sk-parallel-item::after {content: \"\";width: 100%;border-bottom: 1px solid gray;flex-grow: 1;}#sk-container-id-69 div.sk-label:hover label.sk-toggleable__label {background-color: #d4ebff;}#sk-container-id-69 div.sk-serial::before {content: \"\";position: absolute;border-left: 1px solid gray;box-sizing: border-box;top: 0;bottom: 0;left: 50%;z-index: 0;}#sk-container-id-69 div.sk-serial {display: flex;flex-direction: column;align-items: center;background-color: white;padding-right: 0.2em;padding-left: 0.2em;position: relative;}#sk-container-id-69 div.sk-item {position: relative;z-index: 1;}#sk-container-id-69 div.sk-parallel {display: flex;align-items: stretch;justify-content: center;background-color: white;position: relative;}#sk-container-id-69 div.sk-item::before, #sk-container-id-69 div.sk-parallel-item::before {content: \"\";position: absolute;border-left: 1px solid gray;box-sizing: border-box;top: 0;bottom: 0;left: 50%;z-index: -1;}#sk-container-id-69 div.sk-parallel-item {display: flex;flex-direction: column;z-index: 1;position: relative;background-color: white;}#sk-container-id-69 div.sk-parallel-item:first-child::after {align-self: flex-end;width: 50%;}#sk-container-id-69 div.sk-parallel-item:last-child::after {align-self: flex-start;width: 50%;}#sk-container-id-69 div.sk-parallel-item:only-child::after {width: 0;}#sk-container-id-69 div.sk-dashed-wrapped {border: 1px dashed gray;margin: 0 0.4em 0.5em 0.4em;box-sizing: border-box;padding-bottom: 0.4em;background-color: white;}#sk-container-id-69 div.sk-label label {font-family: monospace;font-weight: bold;display: inline-block;line-height: 1.2em;}#sk-container-id-69 div.sk-label-container {text-align: center;}#sk-container-id-69 div.sk-container {/* jupyter's `normalize.less` sets `[hidden] { display: none; }` but bootstrap.min.css set `[hidden] { display: none !important; }` so we also need the `!important` here to be able to override the default hidden behavior on the sphinx rendered scikit-learn.org. See: https://github.com/scikit-learn/scikit-learn/issues/21755 */display: inline-block !important;position: relative;}#sk-container-id-69 div.sk-text-repr-fallback {display: none;}</style><div id=\"sk-container-id-69\" class=\"sk-top-container\"><div class=\"sk-text-repr-fallback\"><pre>GridSearchCV(estimator=Pipeline(steps=[(&#x27;poly&#x27;, PolynomialFeatures()),\n",
       "                                       (&#x27;Lasso&#x27;, Lasso())]),\n",
       "             param_grid={&#x27;Lasso__alpha&#x27;: array([0.001     , 0.00562341, 0.03162278, 0.17782794, 1.        ]),\n",
       "                         &#x27;poly__degree&#x27;: (1, 2)},\n",
       "             scoring=&#x27;neg_mean_absolute_error&#x27;)</pre><b>In a Jupyter environment, please rerun this cell to show the HTML representation or trust the notebook. <br />On GitHub, the HTML representation is unable to render, please try loading this page with nbviewer.org.</b></div><div class=\"sk-container\" hidden><div class=\"sk-item sk-dashed-wrapped\"><div class=\"sk-label-container\"><div class=\"sk-label sk-toggleable\"><input class=\"sk-toggleable__control sk-hidden--visually\" id=\"sk-estimator-id-212\" type=\"checkbox\" ><label for=\"sk-estimator-id-212\" class=\"sk-toggleable__label sk-toggleable__label-arrow\">GridSearchCV</label><div class=\"sk-toggleable__content\"><pre>GridSearchCV(estimator=Pipeline(steps=[(&#x27;poly&#x27;, PolynomialFeatures()),\n",
       "                                       (&#x27;Lasso&#x27;, Lasso())]),\n",
       "             param_grid={&#x27;Lasso__alpha&#x27;: array([0.001     , 0.00562341, 0.03162278, 0.17782794, 1.        ]),\n",
       "                         &#x27;poly__degree&#x27;: (1, 2)},\n",
       "             scoring=&#x27;neg_mean_absolute_error&#x27;)</pre></div></div></div><div class=\"sk-parallel\"><div class=\"sk-parallel-item\"><div class=\"sk-item\"><div class=\"sk-label-container\"><div class=\"sk-label sk-toggleable\"><input class=\"sk-toggleable__control sk-hidden--visually\" id=\"sk-estimator-id-213\" type=\"checkbox\" ><label for=\"sk-estimator-id-213\" class=\"sk-toggleable__label sk-toggleable__label-arrow\">estimator: Pipeline</label><div class=\"sk-toggleable__content\"><pre>Pipeline(steps=[(&#x27;poly&#x27;, PolynomialFeatures()), (&#x27;Lasso&#x27;, Lasso())])</pre></div></div></div><div class=\"sk-serial\"><div class=\"sk-item\"><div class=\"sk-serial\"><div class=\"sk-item\"><div class=\"sk-estimator sk-toggleable\"><input class=\"sk-toggleable__control sk-hidden--visually\" id=\"sk-estimator-id-214\" type=\"checkbox\" ><label for=\"sk-estimator-id-214\" class=\"sk-toggleable__label sk-toggleable__label-arrow\">PolynomialFeatures</label><div class=\"sk-toggleable__content\"><pre>PolynomialFeatures()</pre></div></div></div><div class=\"sk-item\"><div class=\"sk-estimator sk-toggleable\"><input class=\"sk-toggleable__control sk-hidden--visually\" id=\"sk-estimator-id-215\" type=\"checkbox\" ><label for=\"sk-estimator-id-215\" class=\"sk-toggleable__label sk-toggleable__label-arrow\">Lasso</label><div class=\"sk-toggleable__content\"><pre>Lasso()</pre></div></div></div></div></div></div></div></div></div></div></div></div>"
      ],
      "text/plain": [
       "GridSearchCV(estimator=Pipeline(steps=[('poly', PolynomialFeatures()),\n",
       "                                       ('Lasso', Lasso())]),\n",
       "             param_grid={'Lasso__alpha': array([0.001     , 0.00562341, 0.03162278, 0.17782794, 1.        ]),\n",
       "                         'poly__degree': (1, 2)},\n",
       "             scoring='neg_mean_absolute_error')"
      ]
     },
     "execution_count": 1100,
     "metadata": {},
     "output_type": "execute_result"
    }
   ],
   "source": [
    "grid_pipeline = Pipeline([\n",
    "    (\"poly\", PolynomialFeatures()),\n",
    "    (\"Lasso\", Lasso())   \n",
    "    ])\n",
    "param_grid = {'poly__degree': (1, 2),\n",
    "              'Lasso__alpha': np.logspace(-3, 0, num=5)} \n",
    "\n",
    "Lasso_grid_search = GridSearchCV(grid_pipeline,\n",
    "                                 param_grid=param_grid,\n",
    "                                 scoring=\"neg_mean_absolute_error\",\n",
    "                                 return_train_score=False)\n",
    "Lasso_grid_search"
   ]
  },
  {
   "cell_type": "code",
   "execution_count": null,
   "metadata": {
    "colab": {
     "base_uri": "https://localhost:8080/"
    },
    "id": "VrxKLAmL5lv8",
    "outputId": "42a4e696-4569-46df-e5b9-f48cc851f740"
   },
   "outputs": [
    {
     "data": {
      "text/plain": [
       "{'Lasso__alpha': 1.0, 'poly__degree': 1}"
      ]
     },
     "execution_count": 1101,
     "metadata": {},
     "output_type": "execute_result"
    }
   ],
   "source": [
    "Lasso_grid_search.fit(pro_X_train,y_train)\n",
    "Lasso_grid_search.best_params_"
   ]
  },
  {
   "cell_type": "markdown",
   "metadata": {
    "id": "oviDzUl3PoLY"
   },
   "source": [
    "# (Common Instructions for Question 25 and 26)\n",
    "## To Reduce number of dimensions of training data with PCA. Fit the PCA model using following parameter values on training data.\n",
    "\n",
    "* n_components=5\n",
    "* svd_solver='full'\n",
    "* whiten=True\n",
    "* random_state=42\n"
   ]
  },
  {
   "cell_type": "markdown",
   "metadata": {
    "id": "G7vldLojP4OJ"
   },
   "source": [
    "## Q25: [Marks 5] What is the sum of `explained_variance_ratio_` ? [NAT\n",
    "\n",
    "Ans: 0.66 (Range: 0.62 - 0.70)"
   ]
  },
  {
   "cell_type": "code",
   "execution_count": null,
   "metadata": {
    "id": "LxbynCSB3HGt"
   },
   "outputs": [],
   "source": [
    "from sklearn.decomposition import PCA\n",
    "pca = PCA(n_components=5,whiten=True,svd_solver='full', random_state=42)\n",
    "X_train_PCA = pca.fit_transform(pro_X_train)"
   ]
  },
  {
   "cell_type": "code",
   "execution_count": null,
   "metadata": {
    "colab": {
     "base_uri": "https://localhost:8080/",
     "height": 206
    },
    "id": "XUArlC7xq4_c",
    "outputId": "06da3cc2-20d3-464a-e7b0-b7e0716b7676"
   },
   "outputs": [
    {
     "data": {
      "text/html": [
       "\n",
       "  <div id=\"df-0c779266-c471-46d7-9b3e-5137faa0a6c6\">\n",
       "    <div class=\"colab-df-container\">\n",
       "      <div>\n",
       "<style scoped>\n",
       "    .dataframe tbody tr th:only-of-type {\n",
       "        vertical-align: middle;\n",
       "    }\n",
       "\n",
       "    .dataframe tbody tr th {\n",
       "        vertical-align: top;\n",
       "    }\n",
       "\n",
       "    .dataframe thead th {\n",
       "        text-align: right;\n",
       "    }\n",
       "</style>\n",
       "<table border=\"1\" class=\"dataframe\">\n",
       "  <thead>\n",
       "    <tr style=\"text-align: right;\">\n",
       "      <th></th>\n",
       "      <th>PC1</th>\n",
       "      <th>PC2</th>\n",
       "      <th>PC3</th>\n",
       "      <th>PC4</th>\n",
       "      <th>PC5</th>\n",
       "      <th>target</th>\n",
       "    </tr>\n",
       "  </thead>\n",
       "  <tbody>\n",
       "    <tr>\n",
       "      <th>0</th>\n",
       "      <td>0.093732</td>\n",
       "      <td>1.662843</td>\n",
       "      <td>-1.450814</td>\n",
       "      <td>0.835822</td>\n",
       "      <td>1.187168</td>\n",
       "      <td>175140.0</td>\n",
       "    </tr>\n",
       "    <tr>\n",
       "      <th>1</th>\n",
       "      <td>-0.732479</td>\n",
       "      <td>-1.209241</td>\n",
       "      <td>-0.709407</td>\n",
       "      <td>0.974817</td>\n",
       "      <td>-0.032890</td>\n",
       "      <td>154452.0</td>\n",
       "    </tr>\n",
       "    <tr>\n",
       "      <th>2</th>\n",
       "      <td>0.962206</td>\n",
       "      <td>-0.275504</td>\n",
       "      <td>-1.105984</td>\n",
       "      <td>-1.166332</td>\n",
       "      <td>-0.320842</td>\n",
       "      <td>102588.0</td>\n",
       "    </tr>\n",
       "    <tr>\n",
       "      <th>3</th>\n",
       "      <td>-1.316264</td>\n",
       "      <td>1.328575</td>\n",
       "      <td>0.836044</td>\n",
       "      <td>0.726487</td>\n",
       "      <td>2.110081</td>\n",
       "      <td>62532.0</td>\n",
       "    </tr>\n",
       "    <tr>\n",
       "      <th>4</th>\n",
       "      <td>1.178487</td>\n",
       "      <td>-1.244181</td>\n",
       "      <td>0.754414</td>\n",
       "      <td>0.748306</td>\n",
       "      <td>-0.905700</td>\n",
       "      <td>59940.0</td>\n",
       "    </tr>\n",
       "  </tbody>\n",
       "</table>\n",
       "</div>\n",
       "      <button class=\"colab-df-convert\" onclick=\"convertToInteractive('df-0c779266-c471-46d7-9b3e-5137faa0a6c6')\"\n",
       "              title=\"Convert this dataframe to an interactive table.\"\n",
       "              style=\"display:none;\">\n",
       "        \n",
       "  <svg xmlns=\"http://www.w3.org/2000/svg\" height=\"24px\"viewBox=\"0 0 24 24\"\n",
       "       width=\"24px\">\n",
       "    <path d=\"M0 0h24v24H0V0z\" fill=\"none\"/>\n",
       "    <path d=\"M18.56 5.44l.94 2.06.94-2.06 2.06-.94-2.06-.94-.94-2.06-.94 2.06-2.06.94zm-11 1L8.5 8.5l.94-2.06 2.06-.94-2.06-.94L8.5 2.5l-.94 2.06-2.06.94zm10 10l.94 2.06.94-2.06 2.06-.94-2.06-.94-.94-2.06-.94 2.06-2.06.94z\"/><path d=\"M17.41 7.96l-1.37-1.37c-.4-.4-.92-.59-1.43-.59-.52 0-1.04.2-1.43.59L10.3 9.45l-7.72 7.72c-.78.78-.78 2.05 0 2.83L4 21.41c.39.39.9.59 1.41.59.51 0 1.02-.2 1.41-.59l7.78-7.78 2.81-2.81c.8-.78.8-2.07 0-2.86zM5.41 20L4 18.59l7.72-7.72 1.47 1.35L5.41 20z\"/>\n",
       "  </svg>\n",
       "      </button>\n",
       "      \n",
       "  <style>\n",
       "    .colab-df-container {\n",
       "      display:flex;\n",
       "      flex-wrap:wrap;\n",
       "      gap: 12px;\n",
       "    }\n",
       "\n",
       "    .colab-df-convert {\n",
       "      background-color: #E8F0FE;\n",
       "      border: none;\n",
       "      border-radius: 50%;\n",
       "      cursor: pointer;\n",
       "      display: none;\n",
       "      fill: #1967D2;\n",
       "      height: 32px;\n",
       "      padding: 0 0 0 0;\n",
       "      width: 32px;\n",
       "    }\n",
       "\n",
       "    .colab-df-convert:hover {\n",
       "      background-color: #E2EBFA;\n",
       "      box-shadow: 0px 1px 2px rgba(60, 64, 67, 0.3), 0px 1px 3px 1px rgba(60, 64, 67, 0.15);\n",
       "      fill: #174EA6;\n",
       "    }\n",
       "\n",
       "    [theme=dark] .colab-df-convert {\n",
       "      background-color: #3B4455;\n",
       "      fill: #D2E3FC;\n",
       "    }\n",
       "\n",
       "    [theme=dark] .colab-df-convert:hover {\n",
       "      background-color: #434B5C;\n",
       "      box-shadow: 0px 1px 3px 1px rgba(0, 0, 0, 0.15);\n",
       "      filter: drop-shadow(0px 1px 2px rgba(0, 0, 0, 0.3));\n",
       "      fill: #FFFFFF;\n",
       "    }\n",
       "  </style>\n",
       "\n",
       "      <script>\n",
       "        const buttonEl =\n",
       "          document.querySelector('#df-0c779266-c471-46d7-9b3e-5137faa0a6c6 button.colab-df-convert');\n",
       "        buttonEl.style.display =\n",
       "          google.colab.kernel.accessAllowed ? 'block' : 'none';\n",
       "\n",
       "        async function convertToInteractive(key) {\n",
       "          const element = document.querySelector('#df-0c779266-c471-46d7-9b3e-5137faa0a6c6');\n",
       "          const dataTable =\n",
       "            await google.colab.kernel.invokeFunction('convertToInteractive',\n",
       "                                                     [key], {});\n",
       "          if (!dataTable) return;\n",
       "\n",
       "          const docLinkHtml = 'Like what you see? Visit the ' +\n",
       "            '<a target=\"_blank\" href=https://colab.research.google.com/notebooks/data_table.ipynb>data table notebook</a>'\n",
       "            + ' to learn more about interactive tables.';\n",
       "          element.innerHTML = '';\n",
       "          dataTable['output_type'] = 'display_data';\n",
       "          await google.colab.output.renderOutput(dataTable, element);\n",
       "          const docLink = document.createElement('div');\n",
       "          docLink.innerHTML = docLinkHtml;\n",
       "          element.appendChild(docLink);\n",
       "        }\n",
       "      </script>\n",
       "    </div>\n",
       "  </div>\n",
       "  "
      ],
      "text/plain": [
       "        PC1       PC2       PC3       PC4       PC5    target\n",
       "0  0.093732  1.662843 -1.450814  0.835822  1.187168  175140.0\n",
       "1 -0.732479 -1.209241 -0.709407  0.974817 -0.032890  154452.0\n",
       "2  0.962206 -0.275504 -1.105984 -1.166332 -0.320842  102588.0\n",
       "3 -1.316264  1.328575  0.836044  0.726487  2.110081   62532.0\n",
       "4  1.178487 -1.244181  0.754414  0.748306 -0.905700   59940.0"
      ]
     },
     "execution_count": 1103,
     "metadata": {},
     "output_type": "execute_result"
    }
   ],
   "source": [
    "# Create a new dataset from principal components \n",
    "pca_data = pd.DataFrame(X_train_PCA, columns = ['PC1', 'PC2', 'PC3', 'PC4', 'PC5' ]) # \n",
    "pca_data['target'] = y_train\n",
    "pca_data.head()"
   ]
  },
  {
   "cell_type": "code",
   "execution_count": null,
   "metadata": {
    "colab": {
     "base_uri": "https://localhost:8080/"
    },
    "id": "vddQEZkpn6Xm",
    "outputId": "f1e2f641-9d8b-4947-a372-a147ca8a5c7f"
   },
   "outputs": [
    {
     "data": {
      "text/plain": [
       "array([0.15347205, 0.14194554, 0.13307863, 0.12267488, 0.109111  ])"
      ]
     },
     "execution_count": 1104,
     "metadata": {},
     "output_type": "execute_result"
    }
   ],
   "source": [
    "pca.explained_variance_ratio_"
   ]
  },
  {
   "cell_type": "code",
   "execution_count": null,
   "metadata": {
    "colab": {
     "base_uri": "https://localhost:8080/"
    },
    "id": "C6jbZjByUzlF",
    "outputId": "ce51b8a4-315d-4b63-afa2-e6733e56df4c"
   },
   "outputs": [
    {
     "data": {
      "text/plain": [
       "0.66"
      ]
     },
     "execution_count": 1105,
     "metadata": {},
     "output_type": "execute_result"
    }
   ],
   "source": [
    "np.round(sum(pca.explained_variance_ratio_),2)"
   ]
  },
  {
   "cell_type": "code",
   "execution_count": null,
   "metadata": {
    "colab": {
     "base_uri": "https://localhost:8080/",
     "height": 297
    },
    "id": "uoAWuGlvtk9_",
    "outputId": "418d3bfc-d087-4d54-f497-3039fe38254a"
   },
   "outputs": [
    {
     "data": {
      "image/png": "[encoded data removed]",
      "text/plain": [
       "<Figure size 432x288 with 1 Axes>"
      ]
     },
     "metadata": {
      "needs_background": "light"
     },
     "output_type": "display_data"
    }
   ],
   "source": [
    "exp_var_pca = pca.explained_variance_ratio_\n",
    "#\n",
    "# Cumulative sum of eigenvalues; This will be used to create step plot\n",
    "# for visualizing the variance explained by each principal component.\n",
    "#\n",
    "cum_sum_eigenvalues = np.cumsum(exp_var_pca)\n",
    "#\n",
    "# Create the visualization plot\n",
    "#\n",
    "plt.bar(range(0,len(exp_var_pca)), exp_var_pca, alpha=0.5, align='center', label='Individual explained variance')\n",
    "plt.step(range(0,len(cum_sum_eigenvalues)), cum_sum_eigenvalues, where='mid',label='Cumulative explained variance')\n",
    "plt.ylabel('Explained variance ratio')\n",
    "plt.xlabel('Principal component index')\n",
    "plt.legend(loc='best')\n",
    "plt.tight_layout()\n",
    "plt.show()"
   ]
  },
  {
   "cell_type": "markdown",
   "metadata": {
    "id": "E-5X7voBP9aZ"
   },
   "source": [
    "## Q26: [Marks 6] Use PCA transformed training data from earlier question and y_train to fit the `RidgeCV` estimator model having alpha value as [0.001,0.01,0.1,1]. Calculate the R2 score you got from the model for transformed test data(PCA transformed X_test). [NAT] (upto 4 decimal) \n",
    "\n",
    "V1: 0.1299 (Range: 0.1270 - 0.1320) \n",
    "\n",
    "V2: 0.1298 (Range: 0.1070 - 0.1200)\n",
    "\n",
    "V3: 0.1284 (Range: 0.1250 - 0.1310)\n",
    "\n",
    "V4: 0.1238 (Range: 0.1200 - 0.1280)\n",
    "\n",
    "V5: 0.1383 (Range: 0.1350 - 0.1410)\n"
   ]
  },
  {
   "cell_type": "code",
   "execution_count": null,
   "metadata": {
    "colab": {
     "base_uri": "https://localhost:8080/",
     "height": 74
    },
    "id": "1qNHPoz8PvLj",
    "outputId": "771cfc2d-5543-4d75-e2f8-b9370e5efc02"
   },
   "outputs": [
    {
     "data": {
      "text/html": [
       "<style>#sk-container-id-70 {color: black;background-color: white;}#sk-container-id-70 pre{padding: 0;}#sk-container-id-70 div.sk-toggleable {background-color: white;}#sk-container-id-70 label.sk-toggleable__label {cursor: pointer;display: block;width: 100%;margin-bottom: 0;padding: 0.3em;box-sizing: border-box;text-align: center;}#sk-container-id-70 label.sk-toggleable__label-arrow:before {content: \"▸\";float: left;margin-right: 0.25em;color: #696969;}#sk-container-id-70 label.sk-toggleable__label-arrow:hover:before {color: black;}#sk-container-id-70 div.sk-estimator:hover label.sk-toggleable__label-arrow:before {color: black;}#sk-container-id-70 div.sk-toggleable__content {max-height: 0;max-width: 0;overflow: hidden;text-align: left;background-color: #f0f8ff;}#sk-container-id-70 div.sk-toggleable__content pre {margin: 0.2em;color: black;border-radius: 0.25em;background-color: #f0f8ff;}#sk-container-id-70 input.sk-toggleable__control:checked~div.sk-toggleable__content {max-height: 200px;max-width: 100%;overflow: auto;}#sk-container-id-70 input.sk-toggleable__control:checked~label.sk-toggleable__label-arrow:before {content: \"▾\";}#sk-container-id-70 div.sk-estimator input.sk-toggleable__control:checked~label.sk-toggleable__label {background-color: #d4ebff;}#sk-container-id-70 div.sk-label input.sk-toggleable__control:checked~label.sk-toggleable__label {background-color: #d4ebff;}#sk-container-id-70 input.sk-hidden--visually {border: 0;clip: rect(1px 1px 1px 1px);clip: rect(1px, 1px, 1px, 1px);height: 1px;margin: -1px;overflow: hidden;padding: 0;position: absolute;width: 1px;}#sk-container-id-70 div.sk-estimator {font-family: monospace;background-color: #f0f8ff;border: 1px dotted black;border-radius: 0.25em;box-sizing: border-box;margin-bottom: 0.5em;}#sk-container-id-70 div.sk-estimator:hover {background-color: #d4ebff;}#sk-container-id-70 div.sk-parallel-item::after {content: \"\";width: 100%;border-bottom: 1px solid gray;flex-grow: 1;}#sk-container-id-70 div.sk-label:hover label.sk-toggleable__label {background-color: #d4ebff;}#sk-container-id-70 div.sk-serial::before {content: \"\";position: absolute;border-left: 1px solid gray;box-sizing: border-box;top: 0;bottom: 0;left: 50%;z-index: 0;}#sk-container-id-70 div.sk-serial {display: flex;flex-direction: column;align-items: center;background-color: white;padding-right: 0.2em;padding-left: 0.2em;position: relative;}#sk-container-id-70 div.sk-item {position: relative;z-index: 1;}#sk-container-id-70 div.sk-parallel {display: flex;align-items: stretch;justify-content: center;background-color: white;position: relative;}#sk-container-id-70 div.sk-item::before, #sk-container-id-70 div.sk-parallel-item::before {content: \"\";position: absolute;border-left: 1px solid gray;box-sizing: border-box;top: 0;bottom: 0;left: 50%;z-index: -1;}#sk-container-id-70 div.sk-parallel-item {display: flex;flex-direction: column;z-index: 1;position: relative;background-color: white;}#sk-container-id-70 div.sk-parallel-item:first-child::after {align-self: flex-end;width: 50%;}#sk-container-id-70 div.sk-parallel-item:last-child::after {align-self: flex-start;width: 50%;}#sk-container-id-70 div.sk-parallel-item:only-child::after {width: 0;}#sk-container-id-70 div.sk-dashed-wrapped {border: 1px dashed gray;margin: 0 0.4em 0.5em 0.4em;box-sizing: border-box;padding-bottom: 0.4em;background-color: white;}#sk-container-id-70 div.sk-label label {font-family: monospace;font-weight: bold;display: inline-block;line-height: 1.2em;}#sk-container-id-70 div.sk-label-container {text-align: center;}#sk-container-id-70 div.sk-container {/* jupyter's `normalize.less` sets `[hidden] { display: none; }` but bootstrap.min.css set `[hidden] { display: none !important; }` so we also need the `!important` here to be able to override the default hidden behavior on the sphinx rendered scikit-learn.org. See: https://github.com/scikit-learn/scikit-learn/issues/21755 */display: inline-block !important;position: relative;}#sk-container-id-70 div.sk-text-repr-fallback {display: none;}</style><div id=\"sk-container-id-70\" class=\"sk-top-container\"><div class=\"sk-text-repr-fallback\"><pre>RidgeCV(alphas=[0.001, 0.01, 0.1, 1])</pre><b>In a Jupyter environment, please rerun this cell to show the HTML representation or trust the notebook. <br />On GitHub, the HTML representation is unable to render, please try loading this page with nbviewer.org.</b></div><div class=\"sk-container\" hidden><div class=\"sk-item\"><div class=\"sk-estimator sk-toggleable\"><input class=\"sk-toggleable__control sk-hidden--visually\" id=\"sk-estimator-id-216\" type=\"checkbox\" checked><label for=\"sk-estimator-id-216\" class=\"sk-toggleable__label sk-toggleable__label-arrow\">RidgeCV</label><div class=\"sk-toggleable__content\"><pre>RidgeCV(alphas=[0.001, 0.01, 0.1, 1])</pre></div></div></div></div></div>"
      ],
      "text/plain": [
       "RidgeCV(alphas=[0.001, 0.01, 0.1, 1])"
      ]
     },
     "execution_count": 1107,
     "metadata": {},
     "output_type": "execute_result"
    }
   ],
   "source": [
    "from sklearn.linear_model import RidgeCV\n",
    "clf = RidgeCV(alphas=[0.001,0.01,0.1,1])\n",
    "clf.fit(X_train_PCA, y_train)"
   ]
  },
  {
   "cell_type": "code",
   "execution_count": null,
   "metadata": {
    "colab": {
     "base_uri": "https://localhost:8080/"
    },
    "id": "_WCWgAlJTTMw",
    "outputId": "05eb9821-03a4-45ba-8fcc-8be61a62d753"
   },
   "outputs": [
    {
     "data": {
      "text/plain": [
       "0.1383"
      ]
     },
     "execution_count": 1108,
     "metadata": {},
     "output_type": "execute_result"
    }
   ],
   "source": [
    "X_test_pca =  pca.transform(pro_X_test)\n",
    "np.round(clf.score(X_test_pca,y_test),4)"
   ]
  }
 ],
 "metadata": {
  "colab": {
   "provenance": []
  },
  "kernelspec": {
   "display_name": "Python 3 (ipykernel)",
   "language": "python",
   "name": "python3"
  },
  "language_info": {
   "codemirror_mode": {
    "name": "ipython",
    "version": 3
   },
   "file_extension": ".py",
   "mimetype": "text/x-python",
   "name": "python",
   "nbconvert_exporter": "python",
   "pygments_lexer": "ipython3",
   "version": "3.9.13"
  }
 },
 "nbformat": 4,
 "nbformat_minor": 1
}
